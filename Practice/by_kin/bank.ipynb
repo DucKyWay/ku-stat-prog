{
 "cells": [
  {
   "cell_type": "code",
   "execution_count": 120,
   "metadata": {},
   "outputs": [],
   "source": [
    "import numpy as np\n",
    "import pandas as pd\n",
    "import statistics as stat"
   ]
  },
  {
   "cell_type": "markdown",
   "metadata": {},
   "source": [
    "## ข้อที่ 1"
   ]
  },
  {
   "cell_type": "code",
   "execution_count": 121,
   "metadata": {},
   "outputs": [
    {
     "data": {
      "text/html": [
       "<div>\n",
       "<style scoped>\n",
       "    .dataframe tbody tr th:only-of-type {\n",
       "        vertical-align: middle;\n",
       "    }\n",
       "\n",
       "    .dataframe tbody tr th {\n",
       "        vertical-align: top;\n",
       "    }\n",
       "\n",
       "    .dataframe thead th {\n",
       "        text-align: right;\n",
       "    }\n",
       "</style>\n",
       "<table border=\"1\" class=\"dataframe\">\n",
       "  <thead>\n",
       "    <tr style=\"text-align: right;\">\n",
       "      <th></th>\n",
       "      <th>transaction_time</th>\n",
       "      <th>customer_count</th>\n",
       "    </tr>\n",
       "  </thead>\n",
       "  <tbody>\n",
       "    <tr>\n",
       "      <th>0</th>\n",
       "      <td>7-11</td>\n",
       "      <td>4</td>\n",
       "    </tr>\n",
       "    <tr>\n",
       "      <th>1</th>\n",
       "      <td>12-16</td>\n",
       "      <td>15</td>\n",
       "    </tr>\n",
       "    <tr>\n",
       "      <th>2</th>\n",
       "      <td>17-21</td>\n",
       "      <td>6</td>\n",
       "    </tr>\n",
       "    <tr>\n",
       "      <th>3</th>\n",
       "      <td>22-26</td>\n",
       "      <td>0</td>\n",
       "    </tr>\n",
       "    <tr>\n",
       "      <th>4</th>\n",
       "      <td>26-30</td>\n",
       "      <td>2</td>\n",
       "    </tr>\n",
       "  </tbody>\n",
       "</table>\n",
       "</div>"
      ],
      "text/plain": [
       "  transaction_time  customer_count\n",
       "0             7-11               4\n",
       "1            12-16              15\n",
       "2            17-21               6\n",
       "3            22-26               0\n",
       "4            26-30               2"
      ]
     },
     "execution_count": 121,
     "metadata": {},
     "output_type": "execute_result"
    }
   ],
   "source": [
    "df_bank = pd.read_csv('https://raw.githubusercontent.com/kinpkt/catlover-cs131-practice/refs/heads/main/practice_dataset/bank_transaction_time.csv')\n",
    "df_bank.head()"
   ]
  },
  {
   "cell_type": "code",
   "execution_count": 122,
   "metadata": {},
   "outputs": [],
   "source": [
    "df_bank[['from', 'to']] = df_bank['transaction_time'].str.split('-', expand=True).astype(int)\n",
    "df_bank['mid'] = (df_bank['from'] + df_bank['to']) / 2\n",
    "df_bank['lower'] = df_bank['from'] - 0.5\n",
    "df_bank['upper'] = df_bank['to'] + 0.5\n",
    "df_bank['customer_count'] = df_bank['customer_count'].astype(int)\n",
    "df_bank['customer_count_cumsum'] = df_bank['customer_count'].cumsum()"
   ]
  },
  {
   "cell_type": "markdown",
   "metadata": {},
   "source": [
    "ค่าเฉลี่ยเลขคณิต"
   ]
  },
  {
   "cell_type": "code",
   "execution_count": 123,
   "metadata": {},
   "outputs": [
    {
     "data": {
      "text/plain": [
       "np.float64(15.407407407407407)"
      ]
     },
     "execution_count": 123,
     "metadata": {},
     "output_type": "execute_result"
    }
   ],
   "source": [
    "bank_mean = sum(df_bank['mid']*df_bank['customer_count']) / df_bank['customer_count'].sum()\n",
    "bank_mean"
   ]
  },
  {
   "cell_type": "markdown",
   "metadata": {},
   "source": [
    "ค่าหามัธยฐาน"
   ]
  },
  {
   "cell_type": "code",
   "execution_count": 124,
   "metadata": {},
   "outputs": [
    {
     "data": {
      "text/plain": [
       "np.float64(14.666666666666666)"
      ]
     },
     "execution_count": 124,
     "metadata": {},
     "output_type": "execute_result"
    }
   ],
   "source": [
    "bank_e = 1 # layer have med\n",
    "bank_Le = df_bank.lower.iloc[bank_e]\n",
    "bank_I = np.ceil(df_bank.upper.iloc[bank_e] - df_bank.lower.iloc[bank_e])\n",
    "bank_n = df_bank.customer_count.sum()\n",
    "bank_fe = df_bank.customer_count[bank_e]\n",
    "\n",
    "bank_med = bank_Le + (((bank_n / 2) - df_bank.customer_count_cumsum.iloc[bank_e-1]) / bank_fe) * bank_I\n",
    "bank_med"
   ]
  },
  {
   "cell_type": "markdown",
   "metadata": {},
   "source": [
    "ค่าฐานนิยม"
   ]
  },
  {
   "cell_type": "code",
   "execution_count": 125,
   "metadata": {},
   "outputs": [
    {
     "data": {
      "text/plain": [
       "np.float64(14.25)"
      ]
     },
     "execution_count": 125,
     "metadata": {},
     "output_type": "execute_result"
    }
   ],
   "source": [
    "bank_e = 1 # layer have mode\n",
    "bank_de_min = df_bank.customer_count[bank_e] - df_bank.customer_count[bank_e-1]\n",
    "bank_de_max = df_bank.customer_count[bank_e] - df_bank.customer_count[bank_e+1]\n",
    "\n",
    "bank_mode = bank_Le + (bank_de_min / (bank_de_min + bank_de_max)) * bank_I\n",
    "bank_mode"
   ]
  },
  {
   "cell_type": "markdown",
   "metadata": {},
   "source": [
    "ค่าส่วนเบี่ยงเบนมาตรฐาน "
   ]
  },
  {
   "cell_type": "code",
   "execution_count": 126,
   "metadata": {},
   "outputs": [
    {
     "data": {
      "text/plain": [
       "np.float64(4.75765989067395)"
      ]
     },
     "execution_count": 126,
     "metadata": {},
     "output_type": "execute_result"
    }
   ],
   "source": [
    "bank_sum_fx = sum(df_bank.customer_count * df_bank['mid'] ** 2)\n",
    "bank_sum_nx2 = sum(df_bank.customer_count) * bank_mean ** 2\n",
    "bank_std = np.sqrt((bank_sum_fx - bank_sum_nx2) / (sum(df_bank['customer_count']) - 1))\n",
    "bank_std"
   ]
  },
  {
   "cell_type": "markdown",
   "metadata": {},
   "source": [
    "ค่า P80"
   ]
  },
  {
   "cell_type": "code",
   "execution_count": 132,
   "metadata": {},
   "outputs": [
    {
     "data": {
      "text/plain": [
       "np.float64(18.666666666666668)"
      ]
     },
     "execution_count": 132,
     "metadata": {},
     "output_type": "execute_result"
    }
   ],
   "source": [
    "index_p80 = bank_n * 80 / 100 # e = 2\n",
    "p80_e = 2\n",
    "p80_Le = df_bank.lower.iloc[p80_e]\n",
    "p80_fe = df_bank.customer_count[p80_e]\n",
    "\n",
    "bank_p80 = p80_Le + ((index_p80 - df_bank.customer_count_cumsum[p80_e-1]) / p80_fe) * bank_I\n",
    "bank_p80"
   ]
  }
 ],
 "metadata": {
  "kernelspec": {
   "display_name": "Python 3",
   "language": "python",
   "name": "python3"
  },
  "language_info": {
   "codemirror_mode": {
    "name": "ipython",
    "version": 3
   },
   "file_extension": ".py",
   "mimetype": "text/x-python",
   "name": "python",
   "nbconvert_exporter": "python",
   "pygments_lexer": "ipython3",
   "version": "3.12.8"
  }
 },
 "nbformat": 4,
 "nbformat_minor": 2
}
