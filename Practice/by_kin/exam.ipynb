{
 "cells": [
  {
   "cell_type": "markdown",
   "metadata": {},
   "source": [
    "## ข้อที่ 3"
   ]
  },
  {
   "cell_type": "code",
   "execution_count": 1,
   "metadata": {},
   "outputs": [],
   "source": [
    "import numpy as np\n",
    "import pandas as pd\n",
    "import statistics as stat"
   ]
  },
  {
   "cell_type": "code",
   "execution_count": 2,
   "metadata": {},
   "outputs": [
    {
     "data": {
      "text/html": [
       "<div>\n",
       "<style scoped>\n",
       "    .dataframe tbody tr th:only-of-type {\n",
       "        vertical-align: middle;\n",
       "    }\n",
       "\n",
       "    .dataframe tbody tr th {\n",
       "        vertical-align: top;\n",
       "    }\n",
       "\n",
       "    .dataframe thead th {\n",
       "        text-align: right;\n",
       "    }\n",
       "</style>\n",
       "<table border=\"1\" class=\"dataframe\">\n",
       "  <thead>\n",
       "    <tr style=\"text-align: right;\">\n",
       "      <th></th>\n",
       "      <th>student_id</th>\n",
       "      <th>gender</th>\n",
       "      <th>age</th>\n",
       "      <th>gpax</th>\n",
       "      <th>math1</th>\n",
       "      <th>math2</th>\n",
       "      <th>sci</th>\n",
       "      <th>phy</th>\n",
       "      <th>soc</th>\n",
       "      <th>eng</th>\n",
       "      <th>chn</th>\n",
       "      <th>jpn</th>\n",
       "    </tr>\n",
       "  </thead>\n",
       "  <tbody>\n",
       "    <tr>\n",
       "      <th>0</th>\n",
       "      <td>42560</td>\n",
       "      <td>m</td>\n",
       "      <td>18</td>\n",
       "      <td>3.75</td>\n",
       "      <td>1</td>\n",
       "      <td>1</td>\n",
       "      <td>1</td>\n",
       "      <td>1</td>\n",
       "      <td>0</td>\n",
       "      <td>1</td>\n",
       "      <td>0</td>\n",
       "      <td>0</td>\n",
       "    </tr>\n",
       "    <tr>\n",
       "      <th>1</th>\n",
       "      <td>42572</td>\n",
       "      <td>f</td>\n",
       "      <td>18</td>\n",
       "      <td>3.82</td>\n",
       "      <td>1</td>\n",
       "      <td>1</td>\n",
       "      <td>0</td>\n",
       "      <td>1</td>\n",
       "      <td>1</td>\n",
       "      <td>1</td>\n",
       "      <td>0</td>\n",
       "      <td>1</td>\n",
       "    </tr>\n",
       "    <tr>\n",
       "      <th>2</th>\n",
       "      <td>42553</td>\n",
       "      <td>f</td>\n",
       "      <td>18</td>\n",
       "      <td>3.90</td>\n",
       "      <td>1</td>\n",
       "      <td>0</td>\n",
       "      <td>0</td>\n",
       "      <td>0</td>\n",
       "      <td>0</td>\n",
       "      <td>1</td>\n",
       "      <td>0</td>\n",
       "      <td>0</td>\n",
       "    </tr>\n",
       "    <tr>\n",
       "      <th>3</th>\n",
       "      <td>42549</td>\n",
       "      <td>f</td>\n",
       "      <td>21</td>\n",
       "      <td>4.00</td>\n",
       "      <td>0</td>\n",
       "      <td>0</td>\n",
       "      <td>1</td>\n",
       "      <td>0</td>\n",
       "      <td>1</td>\n",
       "      <td>1</td>\n",
       "      <td>0</td>\n",
       "      <td>1</td>\n",
       "    </tr>\n",
       "    <tr>\n",
       "      <th>4</th>\n",
       "      <td>43390</td>\n",
       "      <td>m</td>\n",
       "      <td>25</td>\n",
       "      <td>1.23</td>\n",
       "      <td>1</td>\n",
       "      <td>0</td>\n",
       "      <td>0</td>\n",
       "      <td>0</td>\n",
       "      <td>1</td>\n",
       "      <td>0</td>\n",
       "      <td>0</td>\n",
       "      <td>0</td>\n",
       "    </tr>\n",
       "  </tbody>\n",
       "</table>\n",
       "</div>"
      ],
      "text/plain": [
       "   student_id gender  age  gpax  math1  math2  sci  phy  soc  eng  chn  jpn\n",
       "0       42560      m   18  3.75      1      1    1    1    0    1    0    0\n",
       "1       42572      f   18  3.82      1      1    0    1    1    1    0    1\n",
       "2       42553      f   18  3.90      1      0    0    0    0    1    0    0\n",
       "3       42549      f   21  4.00      0      0    1    0    1    1    0    1\n",
       "4       43390      m   25  1.23      1      0    0    0    1    0    0    0"
      ]
     },
     "execution_count": 2,
     "metadata": {},
     "output_type": "execute_result"
    }
   ],
   "source": [
    "df_exam = pd.read_csv('https://raw.githubusercontent.com/kinpkt/catlover-cs131-practice/refs/heads/main/practice_dataset/exam_data.csv')\n",
    "df_exam.head()"
   ]
  },
  {
   "cell_type": "markdown",
   "metadata": {},
   "source": [
    "อายุเฉลี่ยของนักเรียนที่สอบในสนามสอบนี้เป็นเท่าใด"
   ]
  },
  {
   "cell_type": "code",
   "execution_count": 5,
   "metadata": {},
   "outputs": [
    {
     "data": {
      "text/plain": [
       "np.float64(19.74)"
      ]
     },
     "execution_count": 5,
     "metadata": {},
     "output_type": "execute_result"
    }
   ],
   "source": [
    "age_mean = df_exam['age'].mean()\n",
    "age_mean"
   ]
  },
  {
   "cell_type": "markdown",
   "metadata": {},
   "source": [
    "ส่วนเบี่ยงเบนมาตรฐานของเกรดเฉลี่ยของนักเรียนที่สมัครเป็นเท่าใด"
   ]
  },
  {
   "cell_type": "code",
   "execution_count": 12,
   "metadata": {},
   "outputs": [
    {
     "data": {
      "text/plain": [
       "np.float64(0.8862602100963352)"
      ]
     },
     "execution_count": 12,
     "metadata": {},
     "output_type": "execute_result"
    }
   ],
   "source": [
    "gpa_std = np.std(df_exam['gpax'])\n",
    "gpa_std"
   ]
  },
  {
   "cell_type": "markdown",
   "metadata": {},
   "source": [
    "นักเรียนที่สอบ ณ สนามสอบแห่งนี้ สมัครสอบวิชาใดมากที่สุด สมัครทั้งหมดกี่คน"
   ]
  },
  {
   "cell_type": "code",
   "execution_count": 18,
   "metadata": {},
   "outputs": [
    {
     "name": "stdout",
     "output_type": "stream",
     "text": [
      "soc: 31\n"
     ]
    }
   ],
   "source": [
    "dict_sub = {'math1': sum(df_exam['math1']), \n",
    "            'math2': sum(df_exam['math2']),\n",
    "            'sci': sum(df_exam['sci']),\n",
    "            'phy': sum(df_exam['phy']),\n",
    "            'soc': sum(df_exam['soc']),\n",
    "            'eng': sum(df_exam['eng']),\n",
    "            'chn': sum(df_exam['chn']),\n",
    "            'jpn': sum(df_exam['jpn']),\n",
    "}\n",
    "print(f\"{max(dict_sub)}: {max(dict_sub.values())}\")\n"
   ]
  },
  {
   "cell_type": "markdown",
   "metadata": {},
   "source": [
    "นักเรียนที่สอบ ณ สนามสอบแห่งนี้ สมัครสอบวิชาใดน้อยที่สุด สมัครทั้งหมดกี่คน"
   ]
  },
  {
   "cell_type": "code",
   "execution_count": 20,
   "metadata": {},
   "outputs": [
    {
     "name": "stdout",
     "output_type": "stream",
     "text": [
      "chn: 17\n"
     ]
    }
   ],
   "source": [
    "print(f\"{min(dict_sub)}: {min(dict_sub.values())}\")"
   ]
  },
  {
   "cell_type": "markdown",
   "metadata": {},
   "source": [
    "นักเรียนในสนามสอบนี้ส่วนมากเป็นเพศใด และทั้งสองเพศมีจํานวนต่างกันอยู่กี่คน"
   ]
  },
  {
   "cell_type": "code",
   "execution_count": 28,
   "metadata": {},
   "outputs": [
    {
     "name": "stdout",
     "output_type": "stream",
     "text": [
      "29 21\n",
      "ผู้ชายมากกว่าผู้หญิง 8 คน\n"
     ]
    }
   ],
   "source": [
    "men = sum(df_exam['gender'] == 'm')\n",
    "women = sum(df_exam['gender'] == 'f')\n",
    "print(men, women)\n",
    "\n",
    "if women > men: print(f\"ผู้หญิงมากกว่าผู้ชาย {women-men} คน\")\n",
    "elif men > women: print(f\"ผู้ชายมากกว่าผู้หญิง {men-women} คน\")\n",
    "else: print(\"ผู้หญิงเท่ากับผู้ชาย\")"
   ]
  },
  {
   "cell_type": "markdown",
   "metadata": {},
   "source": [
    "อัตราส่วนของนักเรียนเพศชายต่อนักเรียนเพศหญิงเป็นเท่าใด"
   ]
  },
  {
   "cell_type": "code",
   "execution_count": 33,
   "metadata": {},
   "outputs": [
    {
     "name": "stdout",
     "output_type": "stream",
     "text": [
      "ชาย 5.8 : 4.2 หญิง\n"
     ]
    }
   ],
   "source": [
    "print(f\"ชาย {men / len(df_exam) * 10} : {women / len(df_exam) * 10} หญิง\")"
   ]
  },
  {
   "cell_type": "markdown",
   "metadata": {},
   "source": [
    "นักเรียนที่สอบ ณ สนามสอบแห่งนี้สมัครสอบวิชาคณิตศาสตร์ 1 มากกว่าคณิตศาสตร์ 2 หรือไม่"
   ]
  },
  {
   "cell_type": "code",
   "execution_count": 39,
   "metadata": {},
   "outputs": [
    {
     "name": "stdout",
     "output_type": "stream",
     "text": [
      "yes\n"
     ]
    }
   ],
   "source": [
    "if sum(df_exam.math1) > sum(df_exam.math2): \n",
    "    print(\"yes\") \n",
    "else: print(\"no\")"
   ]
  },
  {
   "cell_type": "markdown",
   "metadata": {},
   "source": [
    "ในบรรดาหมวดวิชาภาษา (อังกฤษ, จีน และญี่ปุ่น) นักเรียนในสนามสอบนี้สมัครวิชาใดมากที่สุด"
   ]
  },
  {
   "cell_type": "code",
   "execution_count": 40,
   "metadata": {},
   "outputs": [
    {
     "name": "stdout",
     "output_type": "stream",
     "text": [
      "jpn\n"
     ]
    }
   ],
   "source": [
    "eng = dict_sub['eng']\n",
    "chn = dict_sub['chn']\n",
    "jpn = dict_sub['jpn']\n",
    "\n",
    "if eng > chn and eng > jpn: print(\"eng\")\n",
    "elif chn > eng and chn > jpn: print(\"chn\")\n",
    "else: print(\"jpn\")"
   ]
  }
 ],
 "metadata": {
  "kernelspec": {
   "display_name": "Python 3",
   "language": "python",
   "name": "python3"
  },
  "language_info": {
   "codemirror_mode": {
    "name": "ipython",
    "version": 3
   },
   "file_extension": ".py",
   "mimetype": "text/x-python",
   "name": "python",
   "nbconvert_exporter": "python",
   "pygments_lexer": "ipython3",
   "version": "3.12.8"
  }
 },
 "nbformat": 4,
 "nbformat_minor": 2
}
