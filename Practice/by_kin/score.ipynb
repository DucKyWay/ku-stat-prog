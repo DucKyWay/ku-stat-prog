{
 "cells": [
  {
   "cell_type": "markdown",
   "metadata": {},
   "source": [
    "## ข้อที่ 2"
   ]
  },
  {
   "cell_type": "code",
   "execution_count": 18,
   "metadata": {},
   "outputs": [],
   "source": [
    "import numpy as np\n",
    "import pandas as pd\n",
    "import statistics as stat"
   ]
  },
  {
   "cell_type": "code",
   "execution_count": 19,
   "metadata": {},
   "outputs": [
    {
     "data": {
      "text/html": [
       "<div>\n",
       "<style scoped>\n",
       "    .dataframe tbody tr th:only-of-type {\n",
       "        vertical-align: middle;\n",
       "    }\n",
       "\n",
       "    .dataframe tbody tr th {\n",
       "        vertical-align: top;\n",
       "    }\n",
       "\n",
       "    .dataframe thead th {\n",
       "        text-align: right;\n",
       "    }\n",
       "</style>\n",
       "<table border=\"1\" class=\"dataframe\">\n",
       "  <thead>\n",
       "    <tr style=\"text-align: right;\">\n",
       "      <th></th>\n",
       "      <th>calculus_scores</th>\n",
       "      <th>student_count</th>\n",
       "    </tr>\n",
       "  </thead>\n",
       "  <tbody>\n",
       "    <tr>\n",
       "      <th>0</th>\n",
       "      <td>30-40</td>\n",
       "      <td>1</td>\n",
       "    </tr>\n",
       "    <tr>\n",
       "      <th>1</th>\n",
       "      <td>41-50</td>\n",
       "      <td>1</td>\n",
       "    </tr>\n",
       "    <tr>\n",
       "      <th>2</th>\n",
       "      <td>51-60</td>\n",
       "      <td>9</td>\n",
       "    </tr>\n",
       "    <tr>\n",
       "      <th>3</th>\n",
       "      <td>61-70</td>\n",
       "      <td>19</td>\n",
       "    </tr>\n",
       "    <tr>\n",
       "      <th>4</th>\n",
       "      <td>71-80</td>\n",
       "      <td>22</td>\n",
       "    </tr>\n",
       "  </tbody>\n",
       "</table>\n",
       "</div>"
      ],
      "text/plain": [
       "  calculus_scores  student_count\n",
       "0           30-40              1\n",
       "1           41-50              1\n",
       "2           51-60              9\n",
       "3           61-70             19\n",
       "4           71-80             22"
      ]
     },
     "execution_count": 19,
     "metadata": {},
     "output_type": "execute_result"
    }
   ],
   "source": [
    "df_score = pd.read_csv(\"https://raw.githubusercontent.com/kinpkt/catlover-cs131-practice/refs/heads/main/practice_dataset/calculus_student_scores.csv\")\n",
    "df_score.head()"
   ]
  },
  {
   "cell_type": "code",
   "execution_count": 32,
   "metadata": {},
   "outputs": [
    {
     "data": {
      "text/html": [
       "<div>\n",
       "<style scoped>\n",
       "    .dataframe tbody tr th:only-of-type {\n",
       "        vertical-align: middle;\n",
       "    }\n",
       "\n",
       "    .dataframe tbody tr th {\n",
       "        vertical-align: top;\n",
       "    }\n",
       "\n",
       "    .dataframe thead th {\n",
       "        text-align: right;\n",
       "    }\n",
       "</style>\n",
       "<table border=\"1\" class=\"dataframe\">\n",
       "  <thead>\n",
       "    <tr style=\"text-align: right;\">\n",
       "      <th></th>\n",
       "      <th>calculus_scores</th>\n",
       "      <th>student_count</th>\n",
       "      <th>from</th>\n",
       "      <th>to</th>\n",
       "      <th>mid</th>\n",
       "      <th>lower</th>\n",
       "      <th>upper</th>\n",
       "      <th>stu_cumsum</th>\n",
       "    </tr>\n",
       "  </thead>\n",
       "  <tbody>\n",
       "    <tr>\n",
       "      <th>0</th>\n",
       "      <td>30-40</td>\n",
       "      <td>1</td>\n",
       "      <td>30</td>\n",
       "      <td>40</td>\n",
       "      <td>35.0</td>\n",
       "      <td>29.5</td>\n",
       "      <td>40.5</td>\n",
       "      <td>1</td>\n",
       "    </tr>\n",
       "    <tr>\n",
       "      <th>1</th>\n",
       "      <td>41-50</td>\n",
       "      <td>1</td>\n",
       "      <td>41</td>\n",
       "      <td>50</td>\n",
       "      <td>45.5</td>\n",
       "      <td>40.5</td>\n",
       "      <td>50.5</td>\n",
       "      <td>2</td>\n",
       "    </tr>\n",
       "    <tr>\n",
       "      <th>2</th>\n",
       "      <td>51-60</td>\n",
       "      <td>9</td>\n",
       "      <td>51</td>\n",
       "      <td>60</td>\n",
       "      <td>55.5</td>\n",
       "      <td>50.5</td>\n",
       "      <td>60.5</td>\n",
       "      <td>11</td>\n",
       "    </tr>\n",
       "    <tr>\n",
       "      <th>3</th>\n",
       "      <td>61-70</td>\n",
       "      <td>19</td>\n",
       "      <td>61</td>\n",
       "      <td>70</td>\n",
       "      <td>65.5</td>\n",
       "      <td>60.5</td>\n",
       "      <td>70.5</td>\n",
       "      <td>30</td>\n",
       "    </tr>\n",
       "    <tr>\n",
       "      <th>4</th>\n",
       "      <td>71-80</td>\n",
       "      <td>22</td>\n",
       "      <td>71</td>\n",
       "      <td>80</td>\n",
       "      <td>75.5</td>\n",
       "      <td>70.5</td>\n",
       "      <td>80.5</td>\n",
       "      <td>52</td>\n",
       "    </tr>\n",
       "    <tr>\n",
       "      <th>5</th>\n",
       "      <td>81-90</td>\n",
       "      <td>5</td>\n",
       "      <td>81</td>\n",
       "      <td>90</td>\n",
       "      <td>85.5</td>\n",
       "      <td>80.5</td>\n",
       "      <td>90.5</td>\n",
       "      <td>57</td>\n",
       "    </tr>\n",
       "    <tr>\n",
       "      <th>6</th>\n",
       "      <td>91-100</td>\n",
       "      <td>3</td>\n",
       "      <td>91</td>\n",
       "      <td>100</td>\n",
       "      <td>95.5</td>\n",
       "      <td>90.5</td>\n",
       "      <td>100.5</td>\n",
       "      <td>60</td>\n",
       "    </tr>\n",
       "  </tbody>\n",
       "</table>\n",
       "</div>"
      ],
      "text/plain": [
       "  calculus_scores  student_count  from   to   mid  lower  upper  stu_cumsum\n",
       "0           30-40              1    30   40  35.0   29.5   40.5           1\n",
       "1           41-50              1    41   50  45.5   40.5   50.5           2\n",
       "2           51-60              9    51   60  55.5   50.5   60.5          11\n",
       "3           61-70             19    61   70  65.5   60.5   70.5          30\n",
       "4           71-80             22    71   80  75.5   70.5   80.5          52\n",
       "5           81-90              5    81   90  85.5   80.5   90.5          57\n",
       "6          91-100              3    91  100  95.5   90.5  100.5          60"
      ]
     },
     "execution_count": 32,
     "metadata": {},
     "output_type": "execute_result"
    }
   ],
   "source": [
    "df_score[['start', 'to']] = df_score['calculus_scores'].str.split(\"-\", expand=True).astype(int)\n",
    "df_score['mid'] = (df_score['start'] + df_score['to']) / 2\n",
    "df_score['lower'] = df_score['start'] - 0.5\n",
    "df_score['upper'] = df_score['to'] + 0.5\n",
    "df_score['stu_cumsum'] = df_score['student_count'].cumsum()\n",
    "df_score"
   ]
  },
  {
   "cell_type": "markdown",
   "metadata": {},
   "source": [
    "ค่าเฉลี่ยเลขคณิตของคะแนนรวมของนิสิตเท่ากับเท่าใด"
   ]
  },
  {
   "cell_type": "code",
   "execution_count": 26,
   "metadata": {},
   "outputs": [
    {
     "data": {
      "text/plain": [
       "np.float64(69.99166666666666)"
      ]
     },
     "execution_count": 26,
     "metadata": {},
     "output_type": "execute_result"
    }
   ],
   "source": [
    "n = df_score['student_count'].sum()\n",
    "mean = sum(df_score.mid * df_score.student_count) / n\n",
    "mean"
   ]
  },
  {
   "cell_type": "markdown",
   "metadata": {},
   "source": [
    "ค่ามัธยฐานของคะแนนรวมของนิสิตเท่ากับเท่าใด"
   ]
  },
  {
   "cell_type": "code",
   "execution_count": 42,
   "metadata": {},
   "outputs": [
    {
     "data": {
      "text/plain": [
       "np.float64(70.5)"
      ]
     },
     "execution_count": 42,
     "metadata": {},
     "output_type": "execute_result"
    }
   ],
   "source": [
    "e_med = 3\n",
    "Le_med = df_score.lower.iloc[e_med]\n",
    "fe_med = df_score.student_count.iloc[e_med]\n",
    "I = np.ceil(df_score.upper[e_med] - df_score.lower[e_med])\n",
    "med = Le_med + (( (n/2) - df_score.stu_cumsum.iloc[e_med-1] ) / fe_med) * I\n",
    "med"
   ]
  },
  {
   "cell_type": "markdown",
   "metadata": {},
   "source": [
    "ค่าฐานนิยมของคะแนนรวมของนิสิตเท่ากับเท่าใด"
   ]
  },
  {
   "cell_type": "code",
   "execution_count": 45,
   "metadata": {},
   "outputs": [
    {
     "data": {
      "text/plain": [
       "np.float64(72.0)"
      ]
     },
     "execution_count": 45,
     "metadata": {},
     "output_type": "execute_result"
    }
   ],
   "source": [
    "e_mode = 4\n",
    "Le_mode = df_score.lower.iloc[e_mode]\n",
    "de_min = df_score.student_count[e_mode] - df_score.student_count[e_mode-1]\n",
    "de_max = df_score.student_count[e_mode] - df_score.student_count[e_mode+1]\n",
    "\n",
    "mode = Le_mode + (de_min / (de_min + de_max)) * I\n",
    "mode"
   ]
  },
  {
   "cell_type": "markdown",
   "metadata": {},
   "source": [
    "หากในวิชานี้ตัด F จากคะแนนที่ตํ่ากว่า Q2 จะมีนิสิตที่ได้ F ประมาณกี่คน* (ทศนิยมปัดตามหลัก)"
   ]
  },
  {
   "cell_type": "code",
   "execution_count": 46,
   "metadata": {},
   "outputs": [
    {
     "name": "stdout",
     "output_type": "stream",
     "text": [
      "71.0\n"
     ]
    }
   ],
   "source": [
    "#q2 = med\n",
    "print(np.ceil(med))"
   ]
  },
  {
   "cell_type": "markdown",
   "metadata": {},
   "source": [
    "ถ้านิสิตที่ได้คะแนนมากกว่า P85 หรือได้81 คะแนนขึ้นไปจะได้ A จะมีนิสิตที่ได้ A ประมาณกี่คน* (ทศนิยมปัดตามหลัก)"
   ]
  },
  {
   "cell_type": "code",
   "execution_count": 69,
   "metadata": {},
   "outputs": [
    {
     "name": "stdout",
     "output_type": "stream",
     "text": [
      "P85 80.04545454545455\n",
      "Total A student: 30\n"
     ]
    }
   ],
   "source": [
    "index_p85 = n * 85 / 100 # e = 4 cumsum\n",
    "e_p85 = 4\n",
    "Le_p85 = df_score.lower.iloc[e_p85]\n",
    "fe_p85 = df_score.student_count.iloc[e_p85]\n",
    "p85 = Le_p85 + ((index_p85 - df_score.stu_cumsum.iloc[e_p85-1]) / fe_p85) * I\n",
    "print(f\"P85 {p85}\")\n",
    "\n",
    "total = 0\n",
    "for i in df_score.index:\n",
    "    if df_score.to.iloc[i] >= round(p85) or df_score.to.iloc[i] >= 81:\n",
    "        total += df_score.student_count[i]\n",
    "print(f\"Total A student: {total}\")\n"
   ]
  },
  {
   "cell_type": "markdown",
   "metadata": {},
   "source": [
    "การแจกแจงของคะแนนนิสิตทั้งหมดที่อยู่ในชุดข้อมูลนี้มีลักษณะอย่างไร"
   ]
  },
  {
   "cell_type": "code",
   "execution_count": 70,
   "metadata": {},
   "outputs": [
    {
     "data": {
      "text/html": [
       "<div>\n",
       "<style scoped>\n",
       "    .dataframe tbody tr th:only-of-type {\n",
       "        vertical-align: middle;\n",
       "    }\n",
       "\n",
       "    .dataframe tbody tr th {\n",
       "        vertical-align: top;\n",
       "    }\n",
       "\n",
       "    .dataframe thead th {\n",
       "        text-align: right;\n",
       "    }\n",
       "</style>\n",
       "<table border=\"1\" class=\"dataframe\">\n",
       "  <thead>\n",
       "    <tr style=\"text-align: right;\">\n",
       "      <th></th>\n",
       "      <th>calculus_scores</th>\n",
       "      <th>student_count</th>\n",
       "      <th>from</th>\n",
       "      <th>to</th>\n",
       "      <th>mid</th>\n",
       "      <th>lower</th>\n",
       "      <th>upper</th>\n",
       "      <th>stu_cumsum</th>\n",
       "    </tr>\n",
       "  </thead>\n",
       "  <tbody>\n",
       "    <tr>\n",
       "      <th>0</th>\n",
       "      <td>30-40</td>\n",
       "      <td>1</td>\n",
       "      <td>30</td>\n",
       "      <td>40</td>\n",
       "      <td>35.0</td>\n",
       "      <td>29.5</td>\n",
       "      <td>40.5</td>\n",
       "      <td>1</td>\n",
       "    </tr>\n",
       "    <tr>\n",
       "      <th>1</th>\n",
       "      <td>41-50</td>\n",
       "      <td>1</td>\n",
       "      <td>41</td>\n",
       "      <td>50</td>\n",
       "      <td>45.5</td>\n",
       "      <td>40.5</td>\n",
       "      <td>50.5</td>\n",
       "      <td>2</td>\n",
       "    </tr>\n",
       "    <tr>\n",
       "      <th>2</th>\n",
       "      <td>51-60</td>\n",
       "      <td>9</td>\n",
       "      <td>51</td>\n",
       "      <td>60</td>\n",
       "      <td>55.5</td>\n",
       "      <td>50.5</td>\n",
       "      <td>60.5</td>\n",
       "      <td>11</td>\n",
       "    </tr>\n",
       "    <tr>\n",
       "      <th>3</th>\n",
       "      <td>61-70</td>\n",
       "      <td>19</td>\n",
       "      <td>61</td>\n",
       "      <td>70</td>\n",
       "      <td>65.5</td>\n",
       "      <td>60.5</td>\n",
       "      <td>70.5</td>\n",
       "      <td>30</td>\n",
       "    </tr>\n",
       "    <tr>\n",
       "      <th>4</th>\n",
       "      <td>71-80</td>\n",
       "      <td>22</td>\n",
       "      <td>71</td>\n",
       "      <td>80</td>\n",
       "      <td>75.5</td>\n",
       "      <td>70.5</td>\n",
       "      <td>80.5</td>\n",
       "      <td>52</td>\n",
       "    </tr>\n",
       "    <tr>\n",
       "      <th>5</th>\n",
       "      <td>81-90</td>\n",
       "      <td>5</td>\n",
       "      <td>81</td>\n",
       "      <td>90</td>\n",
       "      <td>85.5</td>\n",
       "      <td>80.5</td>\n",
       "      <td>90.5</td>\n",
       "      <td>57</td>\n",
       "    </tr>\n",
       "    <tr>\n",
       "      <th>6</th>\n",
       "      <td>91-100</td>\n",
       "      <td>3</td>\n",
       "      <td>91</td>\n",
       "      <td>100</td>\n",
       "      <td>95.5</td>\n",
       "      <td>90.5</td>\n",
       "      <td>100.5</td>\n",
       "      <td>60</td>\n",
       "    </tr>\n",
       "  </tbody>\n",
       "</table>\n",
       "</div>"
      ],
      "text/plain": [
       "  calculus_scores  student_count  from   to   mid  lower  upper  stu_cumsum\n",
       "0           30-40              1    30   40  35.0   29.5   40.5           1\n",
       "1           41-50              1    41   50  45.5   40.5   50.5           2\n",
       "2           51-60              9    51   60  55.5   50.5   60.5          11\n",
       "3           61-70             19    61   70  65.5   60.5   70.5          30\n",
       "4           71-80             22    71   80  75.5   70.5   80.5          52\n",
       "5           81-90              5    81   90  85.5   80.5   90.5          57\n",
       "6          91-100              3    91  100  95.5   90.5  100.5          60"
      ]
     },
     "execution_count": 70,
     "metadata": {},
     "output_type": "execute_result"
    }
   ],
   "source": [
    "df_score"
   ]
  },
  {
   "cell_type": "code",
   "execution_count": 72,
   "metadata": {},
   "outputs": [
    {
     "name": "stdout",
     "output_type": "stream",
     "text": [
      "Mean: 69.99166666666666\n",
      "Median: 70.5\n",
      "Mode: 72.0\n",
      "ตารางนี้มีการแจกแจงแบบเบ้ซ้าย\n"
     ]
    }
   ],
   "source": [
    "print(f\"Mean: {mean}\")\n",
    "print(f\"Median: {med}\")\n",
    "print(f\"Mode: {mode}\")\n",
    "print(f\"ตารางนี้มีการแจกแจงแบบเบ้ซ้าย\")"
   ]
  }
 ],
 "metadata": {
  "kernelspec": {
   "display_name": "Python 3",
   "language": "python",
   "name": "python3"
  },
  "language_info": {
   "codemirror_mode": {
    "name": "ipython",
    "version": 3
   },
   "file_extension": ".py",
   "mimetype": "text/x-python",
   "name": "python",
   "nbconvert_exporter": "python",
   "pygments_lexer": "ipython3",
   "version": "3.12.8"
  }
 },
 "nbformat": 4,
 "nbformat_minor": 2
}
