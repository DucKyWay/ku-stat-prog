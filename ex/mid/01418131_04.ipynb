{
  "cells": [
    {
      "cell_type": "markdown",
      "metadata": {
        "id": "U3ArbMi8JHGD"
      },
      "source": [
        "# แบบฝึกหัด 4"
      ]
    },
    {
      "cell_type": "markdown",
      "metadata": {
        "id": "t9RQYuu-JUwP"
      },
      "source": [
        "---"
      ]
    },
    {
      "cell_type": "code",
      "execution_count": 124,
      "metadata": {
        "id": "5LcuhePsgM1w"
      },
      "outputs": [],
      "source": [
        "import numpy as np\n",
        "import pandas as pd\n",
        "from scipy import stats\n",
        "import statistics\n",
        "from math import perm, comb\n",
        "from scipy.stats import binom, poisson"
      ]
    },
    {
      "cell_type": "markdown",
      "metadata": {
        "id": "uoKssbJRv2Xu"
      },
      "source": [
        "###  "
      ]
    },
    {
      "cell_type": "markdown",
      "metadata": {
        "id": "ag3TNOoapF2I"
      },
      "source": [
        "4.1 จากการวิจัยพบว่า 10% ของผู้สูบบุหรี่มากกว่า 2 มวนต่อวันจะพบความผิดปกติของปอด หากทำการสุ่มตัวอย่างผู้ที่สูบบุหรี่มากกว่า 2 มวนต่อวันจำนวน 10 คน จงหาความน่าจะเป็นของกรณีดังต่อไปนี้  \n",
        "- พบผู้ที่มีความผิดปกติของปอด 3 คน  "
      ]
    },
    {
      "cell_type": "code",
      "execution_count": 125,
      "metadata": {
        "id": "eGMlvK2UXrtE"
      },
      "outputs": [
        {
          "name": "stdout",
          "output_type": "stream",
          "text": [
            "0.05739562800000002\n"
          ]
        }
      ],
      "source": [
        "#แสดงวิธีทำ\n",
        "x = 3\n",
        "n = 10 \n",
        "p = 0.10 \n",
        "𝑞 = 1-p \n",
        "print( comb(n, x) * p**x * q**(n-x) )"
      ]
    },
    {
      "cell_type": "markdown",
      "metadata": {
        "id": "SOtKXJZ0Yhby"
      },
      "source": [
        "- ไม่มีผู้ที่ปอดมีความผิดปกติเลย"
      ]
    },
    {
      "cell_type": "code",
      "execution_count": 126,
      "metadata": {
        "id": "-h3uR0QVYlFA"
      },
      "outputs": [
        {
          "name": "stdout",
          "output_type": "stream",
          "text": [
            "0.3486784401000001\n"
          ]
        }
      ],
      "source": [
        "#แสดงวิธีทำ\n",
        "x = 0\n",
        "print( comb(n, x) * p**x * q**(n-x) )"
      ]
    },
    {
      "cell_type": "markdown",
      "metadata": {
        "id": "gvjrsGthYycb"
      },
      "source": [
        "- พบผู้ที่มีความผิดปกติของปอดอย่างน้อย 1 คน"
      ]
    },
    {
      "cell_type": "code",
      "execution_count": 127,
      "metadata": {
        "id": "NXgJ3SXgYmIC"
      },
      "outputs": [
        {
          "data": {
            "text/plain": [
              "0.6513215599000001"
            ]
          },
          "execution_count": 127,
          "metadata": {},
          "output_type": "execute_result"
        }
      ],
      "source": [
        "#แสดงวิธีทำ\n",
        "res = 0\n",
        "for x in range(1, n+1):\n",
        "    res += comb(n, x) * p**x * q**(n-x)\n",
        "res"
      ]
    },
    {
      "cell_type": "markdown",
      "metadata": {
        "id": "sbZ2sthm9YOB"
      },
      "source": [
        "###  "
      ]
    },
    {
      "cell_type": "markdown",
      "metadata": {
        "id": "t7i3BrqK9YOB"
      },
      "source": [
        "4.2 ในพื้นที่สัมปทานเหมืองแร่ทองคำแห่งหนี่ง พบว่าในการออกพื้นที่สำรวจจะมีโอกาสพบสายแร่ทองคำ 15% หากบริษัท A ได้กำหนดพื้นที่เพื่อทำการสำรวจทั้งหมด 12 จุด จงหาความน่าจะเป็นของเหตุการณ์ต่อไปนี้\n",
        "- พบสายแร่ทองคำทั้ง 12 จุด    "
      ]
    },
    {
      "cell_type": "code",
      "execution_count": 128,
      "metadata": {
        "id": "iqE8-wJaYvtI"
      },
      "outputs": [
        {
          "name": "stdout",
          "output_type": "stream",
          "text": [
            "1.2974633789062494e-10\n"
          ]
        }
      ],
      "source": [
        "#แสดงวิธีทำ\n",
        "x = 12 #success\n",
        "n = 12 # จุด\n",
        "p = 0.15 # โอกาสเจอ\n",
        "𝑞 = 1-p # โอกาสไม่เจอ\n",
        "print( comb(n, x) * p**x * q**(n-x) )"
      ]
    },
    {
      "cell_type": "markdown",
      "metadata": {
        "id": "H4G_eeDQ9TSd"
      },
      "source": [
        "- ไม่พบสายแร่ทองคำทั้ง 12 จุด"
      ]
    },
    {
      "cell_type": "code",
      "execution_count": 129,
      "metadata": {
        "id": "QZX4Vti1Yw3j"
      },
      "outputs": [
        {
          "name": "stdout",
          "output_type": "stream",
          "text": [
            "0.14224175713617207\n"
          ]
        }
      ],
      "source": [
        "#แสดงวิธีทำ\n",
        "x = 0\n",
        "print( comb(n, x) * p**x * q**(n-x) )"
      ]
    },
    {
      "cell_type": "markdown",
      "metadata": {
        "id": "hcYW6v-qAJDw"
      },
      "source": [
        "- พบสายแร่ทองคำ 1 จุดเท่านั้น"
      ]
    },
    {
      "cell_type": "code",
      "execution_count": 130,
      "metadata": {
        "id": "hSdEoTSqYyjh"
      },
      "outputs": [
        {
          "name": "stdout",
          "output_type": "stream",
          "text": [
            "0.3012178386413055\n"
          ]
        }
      ],
      "source": [
        "#แสดงวิธีทำ\n",
        "x = 1\n",
        "print( comb(n, x) * p**x * q**(n-x) )"
      ]
    },
    {
      "cell_type": "markdown",
      "metadata": {
        "id": "tjBxzS5IAezo"
      },
      "source": [
        "- พบสายแร่ทองคำอย่างน้อย 3 จุด"
      ]
    },
    {
      "cell_type": "code",
      "execution_count": 131,
      "metadata": {
        "id": "qDwjL7utYzeA"
      },
      "outputs": [
        {
          "data": {
            "text/plain": [
              "0.26418191377654904"
            ]
          },
          "execution_count": 131,
          "metadata": {},
          "output_type": "execute_result"
        }
      ],
      "source": [
        "#แสดงวิธีทำ\n",
        "res = 0\n",
        "\n",
        "for x in range(3, n+1):\n",
        "    res += comb(n, x) * p**x * q**(n-x)\n",
        "res"
      ]
    },
    {
      "cell_type": "markdown",
      "metadata": {
        "id": "yif8FzhRBNSq"
      },
      "source": [
        "###  "
      ]
    },
    {
      "cell_type": "markdown",
      "metadata": {
        "id": "FgWhB3I9BNSq"
      },
      "source": [
        "4.3 จากการเก็บข้อมูลการเล่นเกมส์ออนไลน์เกมส์หนึ่งพบว่า ผู้เล่นที่มีเลเวล 50 ขึ้นไป 10 คน จะมีผู้เล่นที่ซื้อแพ็กเกจ VIP จำนวน 3 คนโดยประมาณ หากสุ่มตัวอย่างผู้เล่นที่มีเลเวล 50 ขึ้นไปจำนวน 15 คน จงหาค่าความน่าจะเป็นของเหตุการณ์ต่อไปนี้  \n",
        "  \n",
        "- มีผู้เล่นอย่างน้อย 1 คนซื้อแพ็กเกจ VIP    "
      ]
    },
    {
      "cell_type": "code",
      "execution_count": 132,
      "metadata": {
        "id": "RqvCLlbzY1lq"
      },
      "outputs": [
        {
          "name": "stdout",
          "output_type": "stream",
          "text": [
            "0.995252438490057\n"
          ]
        }
      ],
      "source": [
        "#แสดงวิธีทำ\n",
        "x = 0 # โอกาสไม่มี\n",
        "n = 15\n",
        "p = 0.3\n",
        "q = 1 - p\n",
        "print( 1 - (comb(n, x) * p**x * q**(n-x)) )"
      ]
    },
    {
      "cell_type": "markdown",
      "metadata": {
        "id": "WhCBSP4mGDDk"
      },
      "source": [
        "- ไม่มีผู้เล่นซื้อแพ็กเกจ VIP เลย"
      ]
    },
    {
      "cell_type": "code",
      "execution_count": 133,
      "metadata": {
        "id": "w6t6uwHrY4Dv"
      },
      "outputs": [
        {
          "name": "stdout",
          "output_type": "stream",
          "text": [
            "0.004747561509942996\n"
          ]
        }
      ],
      "source": [
        "#แสดงวิธีทำ\n",
        "print( comb(n, x) * p**x * q**(n-x) )"
      ]
    },
    {
      "cell_type": "markdown",
      "metadata": {
        "id": "KDo2aR-0GewE"
      },
      "source": [
        "- มีผู้เล่นน้อยกว่า 4 คนซื้อแพ็กเกจ VIP"
      ]
    },
    {
      "cell_type": "code",
      "execution_count": 134,
      "metadata": {
        "id": "uOJJMG3MY4-w"
      },
      "outputs": [
        {
          "data": {
            "text/plain": [
              "np.float64(0.2968679278870477)"
            ]
          },
          "execution_count": 134,
          "metadata": {},
          "output_type": "execute_result"
        }
      ],
      "source": [
        "#แสดงวิธีทำ\n",
        "res = 0\n",
        "sum([stats.binom.pmf(n=n, p=p, k=x) for x in range(4)]) #เอ้า แบบนี้ก็ได้\n",
        "# sum([comb(n, x) * p**x * q**(n-x) for x in range(4)]) #แบบนี้ก็ได้"
      ]
    },
    {
      "cell_type": "markdown",
      "metadata": {
        "id": "nwSlXUPSHkQL"
      },
      "source": [
        "###  "
      ]
    },
    {
      "cell_type": "markdown",
      "metadata": {
        "id": "v04rtFN2HkQL"
      },
      "source": [
        "4.4 จำนวนอุบัติเหตุอันเนื่องมาจากการจราจรที่สี่แยกแห่งหนึ่งโดยเฉลี่ยมี 3 รายต่อสัปดาห์ จงหาความ\n",
        "น่าจะเป็นที่จะมีอุบัติเหตุ 5 รายที่แยกแห่งนี้ในสัปดาห์หนึ่ง        "
      ]
    },
    {
      "cell_type": "code",
      "execution_count": 135,
      "metadata": {
        "id": "5RsjQd4AY_TX"
      },
      "outputs": [
        {
          "data": {
            "text/plain": [
              "np.float64(0.10081881344492458)"
            ]
          },
          "execution_count": 135,
          "metadata": {},
          "output_type": "execute_result"
        }
      ],
      "source": [
        "#แสดงวิธีทำ\n",
        "stats.poisson.pmf(k = 5, mu = 3)"
      ]
    },
    {
      "cell_type": "markdown",
      "metadata": {
        "id": "LeBrVUJUKdo9"
      },
      "source": [
        "###  "
      ]
    },
    {
      "cell_type": "markdown",
      "metadata": {
        "id": "LoAlPE5XKdo9"
      },
      "source": [
        "4.5 จากการเก็บข้อมูลพบว่า server ของทางภาควิชาฯ จะถูกโจมตีจากผู้ไม่หวังดีโดยเฉลี่ย 6 ครั้งใน 1 วันจงหาความน่าจะเป็นที่ใน 1 วัน server ของทางภาควิชาฯ จะถูกโจมตี 6 - 8 ครั้ง        "
      ]
    },
    {
      "cell_type": "code",
      "execution_count": 136,
      "metadata": {
        "id": "TeGeHVgMZDfr"
      },
      "outputs": [
        {
          "data": {
            "text/plain": [
              "np.float64(0.40155785261995003)"
            ]
          },
          "execution_count": 136,
          "metadata": {},
          "output_type": "execute_result"
        }
      ],
      "source": [
        "#แสดงวิธีทำ\n",
        "sum([stats.poisson.pmf(k = i, mu = 6) for i in range(6, 8+1)])"
      ]
    },
    {
      "cell_type": "markdown",
      "metadata": {
        "id": "r_ZjNP1PL2uu"
      },
      "source": [
        "###  "
      ]
    },
    {
      "cell_type": "markdown",
      "metadata": {
        "id": "STASxmjEL2uu"
      },
      "source": [
        "4.6 จากการเก็บข้อมูลอายุของเด็กที่ติดเกมส์มือถือพบว่ามีการแจกแจงของอายุเป็นแบบปกติ และมีค่าเฉลี่ยเท่ากับ 11.5 ปี\n",
        "และค่าเบี่ยงเบนมาตรฐานเท่ากับ 3 ปี   \n",
        "หากพบเด็กคนหนึ่งติดเกมส์ จงหาความน่าจะเป็นที่เด็กผู้นี้  \n",
        "- มีอายุอยู่ระหว่าง 8.5 และ 14.5 ปี  "
      ]
    },
    {
      "cell_type": "code",
      "execution_count": 137,
      "metadata": {
        "id": "rVbSeQ9-ZGf9"
      },
      "outputs": [
        {
          "data": {
            "text/plain": [
              "np.float64(0.6826894921370859)"
            ]
          },
          "execution_count": 137,
          "metadata": {},
          "output_type": "execute_result"
        }
      ],
      "source": [
        "# x-mu / sd\n",
        "mu = 11.5\n",
        "std = 3\n",
        "x1 = 8.5\n",
        "x2 = 14.5\n",
        "z1 = (x1-mu) / std\n",
        "z2 = (x2-mu) / std\n",
        "\n",
        "p1 = stats.norm.cdf(z1)  # P(Z <= z1)\n",
        "p2 = stats.norm.cdf(z2)  # P(Z <= z2)\n",
        "\n",
        "p2-p1"
      ]
    },
    {
      "cell_type": "markdown",
      "metadata": {
        "id": "7S4XGGO5P4tI"
      },
      "source": [
        "- มีอายุต่ำกว่า 12 ปี"
      ]
    },
    {
      "cell_type": "code",
      "execution_count": 138,
      "metadata": {
        "id": "AWfLt0NZZHqY"
      },
      "outputs": [
        {
          "data": {
            "text/plain": [
              "np.float64(0.5661838326109037)"
            ]
          },
          "execution_count": 138,
          "metadata": {},
          "output_type": "execute_result"
        }
      ],
      "source": [
        "#แสดงวิธีทำ\n",
        "x3 = 12\n",
        "z3 = (x3-mu) / std\n",
        "stats.norm.cdf(z3)"
      ]
    },
    {
      "cell_type": "markdown",
      "metadata": {
        "id": "2g0qLDviQY8b"
      },
      "source": [
        "- มีอายุเกินกว่า 10 ปีขึ้นไป"
      ]
    },
    {
      "cell_type": "code",
      "execution_count": 139,
      "metadata": {
        "id": "U1H1mx2ZZI6I"
      },
      "outputs": [
        {
          "data": {
            "text/plain": [
              "np.float64(0.6914624612740131)"
            ]
          },
          "execution_count": 139,
          "metadata": {},
          "output_type": "execute_result"
        }
      ],
      "source": [
        "#แสดงวิธีทำ\n",
        "x4 = 10\n",
        "z4 = (x4-mu) / std\n",
        "1 - stats.norm.cdf(z4)"
      ]
    },
    {
      "cell_type": "markdown",
      "metadata": {
        "id": "floehrzxQp4u"
      },
      "source": [
        "###  "
      ]
    },
    {
      "cell_type": "markdown",
      "metadata": {
        "id": "xMohIA7jQp4u"
      },
      "source": [
        "4.7 ถ้าระดับค่าคลอเรสเตอรอลในประชากรกลุ่มหนึ่งมีการแจกแจงแบบปกติ มีค่าเฉลี่ยเท่ากับ 200 mg/\n",
        "100 ml และค่าเบี่ยงเบนมาตรฐานเท่ากับ 20 mg/100 ml จงหาความน่าจะเป็นที่จะเลือกได้บุคคลหนึ่ง\n",
        "จากประชากรกลุ่มนี้ แล้วพบว่าระดับคอเรสเตอรอลมีค่า  \n",
        "- ระหว่าง 180 และ 200 mg/100 ml  "
      ]
    },
    {
      "cell_type": "code",
      "execution_count": 140,
      "metadata": {
        "id": "-A17QfPuZM77"
      },
      "outputs": [
        {
          "data": {
            "text/plain": [
              "np.float64(0.3413447460685429)"
            ]
          },
          "execution_count": 140,
          "metadata": {},
          "output_type": "execute_result"
        }
      ],
      "source": [
        "#แสดงวิธีทำ\n",
        "mu = 200\n",
        "std = 20\n",
        "x1 = 180\n",
        "x2 = 200\n",
        "\n",
        "z1 = (x1-mu) / std\n",
        "z2 = (x2-mu) / std\n",
        "\n",
        "p1 = stats.norm.cdf(z1)\n",
        "p2 = stats.norm.cdf(z2)\n",
        "\n",
        "p2-p1"
      ]
    },
    {
      "cell_type": "markdown",
      "metadata": {
        "id": "VrDTcamkTDlO"
      },
      "source": [
        "- เกินกว่า 225 mg/100 ml"
      ]
    },
    {
      "cell_type": "code",
      "execution_count": 141,
      "metadata": {
        "id": "vKuF704LZOX_"
      },
      "outputs": [
        {
          "data": {
            "text/plain": [
              "np.float64(0.10564977366685535)"
            ]
          },
          "execution_count": 141,
          "metadata": {},
          "output_type": "execute_result"
        }
      ],
      "source": [
        "#แสดงวิธีทำ\n",
        "x3 = 225\n",
        "z3 = (x3-mu) / std\n",
        "1 - stats.norm.cdf(z3)"
      ]
    },
    {
      "cell_type": "markdown",
      "metadata": {
        "id": "wnACIhNsTEdT"
      },
      "source": [
        "- ระหว่าง 190 และ 210 mg/100 ml"
      ]
    },
    {
      "cell_type": "code",
      "execution_count": 142,
      "metadata": {
        "id": "8N-XVkZTZP9S"
      },
      "outputs": [
        {
          "data": {
            "text/plain": [
              "np.float64(0.38292492254802624)"
            ]
          },
          "execution_count": 142,
          "metadata": {},
          "output_type": "execute_result"
        }
      ],
      "source": [
        "#แสดงวิธีทำ\n",
        "x4 = 190\n",
        "x5 = 210\n",
        "\n",
        "z4 = (x4-mu) / std\n",
        "z5 = (x5-mu) / std\n",
        "\n",
        "p4 = stats.norm.cdf(z4)\n",
        "p5 = stats.norm.cdf(z5)\n",
        "\n",
        "p5-p4"
      ]
    },
    {
      "cell_type": "markdown",
      "metadata": {
        "id": "00fXCreGTFAM"
      },
      "source": [
        "- น้อยกว่า 150 mg/100 ml"
      ]
    },
    {
      "cell_type": "code",
      "execution_count": 143,
      "metadata": {
        "id": "mZZ7T_QdZRQb"
      },
      "outputs": [
        {
          "data": {
            "text/plain": [
              "np.float64(0.8943502263331446)"
            ]
          },
          "execution_count": 143,
          "metadata": {},
          "output_type": "execute_result"
        }
      ],
      "source": [
        "#แสดงวิธีทำ\n",
        "x6 = 225\n",
        "z6 = (x6-mu) / std\n",
        "stats.norm.cdf(z6)"
      ]
    },
    {
      "cell_type": "markdown",
      "metadata": {
        "id": "Mu4lT_CApF2I"
      },
      "source": [
        "###  "
      ]
    }
  ],
  "metadata": {
    "colab": {
      "provenance": []
    },
    "kernelspec": {
      "display_name": "Python 3",
      "name": "python3"
    },
    "language_info": {
      "codemirror_mode": {
        "name": "ipython",
        "version": 3
      },
      "file_extension": ".py",
      "mimetype": "text/x-python",
      "name": "python",
      "nbconvert_exporter": "python",
      "pygments_lexer": "ipython3",
      "version": "3.12.8"
    }
  },
  "nbformat": 4,
  "nbformat_minor": 0
}
