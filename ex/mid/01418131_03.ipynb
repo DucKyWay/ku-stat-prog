{
 "cells": [
  {
   "cell_type": "markdown",
   "metadata": {
    "id": "U3ArbMi8JHGD"
   },
   "source": [
    "# แบบฝึกหัด 3"
   ]
  },
  {
   "cell_type": "markdown",
   "metadata": {
    "id": "t9RQYuu-JUwP"
   },
   "source": [
    "---"
   ]
  },
  {
   "cell_type": "code",
   "execution_count": 43,
   "metadata": {
    "executionInfo": {
     "elapsed": 1618,
     "status": "ok",
     "timestamp": 1734578896264,
     "user": {
      "displayName": "Suphawinee CHATASAWAPREEDA",
      "userId": "08455372507310280385"
     },
     "user_tz": -420
    },
    "id": "5LcuhePsgM1w"
   },
   "outputs": [],
   "source": [
    "import numpy as np\n",
    "import pandas as pd\n",
    "import statistics"
   ]
  },
  {
   "cell_type": "markdown",
   "metadata": {
    "id": "uoKssbJRv2Xu"
   },
   "source": [
    "###  "
   ]
  },
  {
   "cell_type": "markdown",
   "metadata": {
    "id": "O-jANK7-JY2X"
   },
   "source": [
    "3.1 บริษัทให้บริการด้าน IT ครบวงจรแห่งหนึ่งได้เก็บรวบรวมข้อมูลค่าซ่อมบำรุงอุปกรณ์คอมพิวเตอร์แม่ข่ายและจำนวนลูกค้าของบริษัทในปีที่ผ่านมาเป็นดังไฟล์ asm3_1_itcost.csv  \n",
    "จงแสดงวิธีหาค่ามัธยฐานและฐานนิยมของค่าซ่อมบำรุงอุปกรณ์คอมพิวเตอร์แม่ข่าย"
   ]
  },
  {
   "cell_type": "code",
   "execution_count": 44,
   "metadata": {
    "colab": {
     "base_uri": "https://localhost:8080/",
     "height": 206
    },
    "executionInfo": {
     "elapsed": 466,
     "status": "ok",
     "timestamp": 1734578896727,
     "user": {
      "displayName": "Suphawinee CHATASAWAPREEDA",
      "userId": "08455372507310280385"
     },
     "user_tz": -420
    },
    "id": "HVfgMVlcI_hm",
    "outputId": "11fbd213-4362-4cdb-84d3-1d60b7281da7"
   },
   "outputs": [
    {
     "data": {
      "text/html": [
       "<div>\n",
       "<style scoped>\n",
       "    .dataframe tbody tr th:only-of-type {\n",
       "        vertical-align: middle;\n",
       "    }\n",
       "\n",
       "    .dataframe tbody tr th {\n",
       "        vertical-align: top;\n",
       "    }\n",
       "\n",
       "    .dataframe thead th {\n",
       "        text-align: right;\n",
       "    }\n",
       "</style>\n",
       "<table border=\"1\" class=\"dataframe\">\n",
       "  <thead>\n",
       "    <tr style=\"text-align: right;\">\n",
       "      <th></th>\n",
       "      <th>maintenance_cost</th>\n",
       "      <th>num_customer</th>\n",
       "    </tr>\n",
       "  </thead>\n",
       "  <tbody>\n",
       "    <tr>\n",
       "      <th>0</th>\n",
       "      <td>&lt;=5000</td>\n",
       "      <td>33</td>\n",
       "    </tr>\n",
       "    <tr>\n",
       "      <th>1</th>\n",
       "      <td>5001-10000</td>\n",
       "      <td>41</td>\n",
       "    </tr>\n",
       "    <tr>\n",
       "      <th>2</th>\n",
       "      <td>10001-15000</td>\n",
       "      <td>20</td>\n",
       "    </tr>\n",
       "    <tr>\n",
       "      <th>3</th>\n",
       "      <td>15001-20000</td>\n",
       "      <td>17</td>\n",
       "    </tr>\n",
       "    <tr>\n",
       "      <th>4</th>\n",
       "      <td>20001-25000</td>\n",
       "      <td>10</td>\n",
       "    </tr>\n",
       "  </tbody>\n",
       "</table>\n",
       "</div>"
      ],
      "text/plain": [
       "  maintenance_cost  num_customer\n",
       "0           <=5000            33\n",
       "1       5001-10000            41\n",
       "2      10001-15000            20\n",
       "3      15001-20000            17\n",
       "4      20001-25000            10"
      ]
     },
     "execution_count": 44,
     "metadata": {},
     "output_type": "execute_result"
    }
   ],
   "source": [
    "df_it = pd.read_csv('https://raw.githubusercontent.com/ThammakornS/ProgStat/main/dataset/asm3_1_itcost.csv')\n",
    "df_it.head()"
   ]
  },
  {
   "cell_type": "code",
   "execution_count": 45,
   "metadata": {
    "colab": {
     "base_uri": "https://localhost:8080/"
    },
    "executionInfo": {
     "elapsed": 6,
     "status": "ok",
     "timestamp": 1734579323611,
     "user": {
      "displayName": "Suphawinee CHATASAWAPREEDA",
      "userId": "08455372507310280385"
     },
     "user_tz": -420
    },
    "id": "7TwxeuVW96Ma",
    "outputId": "a247444b-9cc0-4161-f221-a0ce3d9819d8"
   },
   "outputs": [
    {
     "data": {
      "text/plain": [
       "(np.float64(71.0), '5001-10000')"
      ]
     },
     "execution_count": 45,
     "metadata": {},
     "output_type": "execute_result"
    }
   ],
   "source": [
    "#your code\n",
    "it_cumsum = df_it['num_customer'].cumsum()\n",
    "it_med_pos = df_it['num_customer'].sum() / 2\n",
    "it_mode = df_it.loc[df_it['num_customer'].idxmax(), 'maintenance_cost']\n",
    "it_med_pos, it_mode"
   ]
  },
  {
   "cell_type": "markdown",
   "metadata": {
    "id": "BxG0p9G9-qG2"
   },
   "source": [
    "###   "
   ]
  },
  {
   "cell_type": "markdown",
   "metadata": {
    "id": "JTDVG3rksTto"
   },
   "source": [
    "3.2 สุ่มตัวอย่างนักศึกษามาจำนวนหนึ่ง พบว่าคะแนนสอบวิชาสถิติ เป็นดังตาราง 'asm3_2_score.csv' จงหาค่า"
   ]
  },
  {
   "cell_type": "markdown",
   "metadata": {
    "id": "tGs8uJzvy7AY"
   },
   "source": [
    "**3.2.1 ค่าเฉลี่ย**"
   ]
  },
  {
   "cell_type": "code",
   "execution_count": 46,
   "metadata": {
    "colab": {
     "base_uri": "https://localhost:8080/",
     "height": 206
    },
    "executionInfo": {
     "elapsed": 396,
     "status": "ok",
     "timestamp": 1734579333375,
     "user": {
      "displayName": "Suphawinee CHATASAWAPREEDA",
      "userId": "08455372507310280385"
     },
     "user_tz": -420
    },
    "id": "xGfGFa4kvtyH",
    "outputId": "eeb090bf-689a-4527-b9e1-8cad24339dea"
   },
   "outputs": [
    {
     "data": {
      "text/html": [
       "<div>\n",
       "<style scoped>\n",
       "    .dataframe tbody tr th:only-of-type {\n",
       "        vertical-align: middle;\n",
       "    }\n",
       "\n",
       "    .dataframe tbody tr th {\n",
       "        vertical-align: top;\n",
       "    }\n",
       "\n",
       "    .dataframe thead th {\n",
       "        text-align: right;\n",
       "    }\n",
       "</style>\n",
       "<table border=\"1\" class=\"dataframe\">\n",
       "  <thead>\n",
       "    <tr style=\"text-align: right;\">\n",
       "      <th></th>\n",
       "      <th>score</th>\n",
       "      <th>num_student</th>\n",
       "    </tr>\n",
       "  </thead>\n",
       "  <tbody>\n",
       "    <tr>\n",
       "      <th>0</th>\n",
       "      <td>11-15</td>\n",
       "      <td>15</td>\n",
       "    </tr>\n",
       "    <tr>\n",
       "      <th>1</th>\n",
       "      <td>16-20</td>\n",
       "      <td>14</td>\n",
       "    </tr>\n",
       "    <tr>\n",
       "      <th>2</th>\n",
       "      <td>21-25</td>\n",
       "      <td>20</td>\n",
       "    </tr>\n",
       "    <tr>\n",
       "      <th>3</th>\n",
       "      <td>26-30</td>\n",
       "      <td>18</td>\n",
       "    </tr>\n",
       "    <tr>\n",
       "      <th>4</th>\n",
       "      <td>31-35</td>\n",
       "      <td>16</td>\n",
       "    </tr>\n",
       "  </tbody>\n",
       "</table>\n",
       "</div>"
      ],
      "text/plain": [
       "   score  num_student\n",
       "0  11-15           15\n",
       "1  16-20           14\n",
       "2  21-25           20\n",
       "3  26-30           18\n",
       "4  31-35           16"
      ]
     },
     "execution_count": 46,
     "metadata": {},
     "output_type": "execute_result"
    }
   ],
   "source": [
    "df_score = pd.read_csv('https://raw.githubusercontent.com/ThammakornS/ProgStat/main/dataset/asm3_2_score.csv')\n",
    "df_score.head()"
   ]
  },
  {
   "cell_type": "code",
   "execution_count": 47,
   "metadata": {
    "colab": {
     "base_uri": "https://localhost:8080/"
    },
    "executionInfo": {
     "elapsed": 421,
     "status": "ok",
     "timestamp": 1734579396419,
     "user": {
      "displayName": "Suphawinee CHATASAWAPREEDA",
      "userId": "08455372507310280385"
     },
     "user_tz": -420
    },
    "id": "pDFVQTNzykLc",
    "outputId": "d18541b0-877b-492a-91f2-244391156a79"
   },
   "outputs": [
    {
     "name": "stdout",
     "output_type": "stream",
     "text": [
      "25.85\n"
     ]
    }
   ],
   "source": [
    "#your code\n",
    "df_score[['from', 'to']] = df_score['score'].str.split('-',expand=True).astype(int)\n",
    "df_score['mid'] = (df_score['from'] + df_score['to']) / 2\n",
    "df_score['f_x'] = df_score['num_student'] * df_score['mid']\n",
    "\n",
    "sc_mean = df_score['f_x'].sum() / df_score['num_student'].sum()\n",
    "print(sc_mean)"
   ]
  },
  {
   "cell_type": "markdown",
   "metadata": {
    "id": "HyMa-rkR1ctY"
   },
   "source": [
    "**3.2.2 ค่ามัธยฐาน**"
   ]
  },
  {
   "cell_type": "code",
   "execution_count": 48,
   "metadata": {
    "colab": {
     "base_uri": "https://localhost:8080/"
    },
    "executionInfo": {
     "elapsed": 27,
     "status": "ok",
     "timestamp": 1734578896728,
     "user": {
      "displayName": "Suphawinee CHATASAWAPREEDA",
      "userId": "08455372507310280385"
     },
     "user_tz": -420
    },
    "id": "nEOGj6cF-huH",
    "outputId": "6c6adb50-d411-4280-ca79-6527a9d0e700"
   },
   "outputs": [
    {
     "data": {
      "text/plain": [
       "np.float64(50.0)"
      ]
     },
     "execution_count": 48,
     "metadata": {},
     "output_type": "execute_result"
    }
   ],
   "source": [
    "#your code\n",
    "sc_med_pos = df_score['num_student'].sum() / 2\n",
    "sc_med_pos"
   ]
  },
  {
   "cell_type": "markdown",
   "metadata": {
    "id": "zlLBVZ0HcXUZ"
   },
   "source": [
    "**3.2.3 ค่าฐานนิยม**"
   ]
  },
  {
   "cell_type": "code",
   "execution_count": 49,
   "metadata": {
    "colab": {
     "base_uri": "https://localhost:8080/"
    },
    "executionInfo": {
     "elapsed": 24,
     "status": "ok",
     "timestamp": 1734578896728,
     "user": {
      "displayName": "Suphawinee CHATASAWAPREEDA",
      "userId": "08455372507310280385"
     },
     "user_tz": -420
    },
    "id": "lNYzGH_g-mQT",
    "outputId": "ff883a34-9ead-4acf-82e7-7b1fa938f80b"
   },
   "outputs": [
    {
     "name": "stdout",
     "output_type": "stream",
     "text": [
      "21-25 20\n"
     ]
    }
   ],
   "source": [
    "#your code\n",
    "sc_mode = df_score.loc[df_score['num_student'] == df_score['num_student'].max(), 'score'].iloc[0]\n",
    "print(sc_mode, df_score['num_student'].max())"
   ]
  },
  {
   "cell_type": "markdown",
   "metadata": {
    "id": "ONwLjc7wgtn4"
   },
   "source": [
    "**3.2.4 Q<sub>1</sub> และ Q<sub>3</sub>**"
   ]
  },
  {
   "cell_type": "code",
   "execution_count": 50,
   "metadata": {
    "colab": {
     "base_uri": "https://localhost:8080/"
    },
    "executionInfo": {
     "elapsed": 23,
     "status": "ok",
     "timestamp": 1734578896729,
     "user": {
      "displayName": "Suphawinee CHATASAWAPREEDA",
      "userId": "08455372507310280385"
     },
     "user_tz": -420
    },
    "id": "vRq7lL88-xAP",
    "outputId": "679d541a-0296-4f60-bff1-44242e5bf850"
   },
   "outputs": [
    {
     "name": "stdout",
     "output_type": "stream",
     "text": [
      "Q1 = 18.0\n",
      "Q3 = 33.0\n"
     ]
    }
   ],
   "source": [
    "#your code\n",
    "df_score['stu_cumsum'] = df_score['num_student'].cumsum()\n",
    "df_score['lower'] = df_score['from'] - 0.5\n",
    "sc_q1_pos = df_score['num_student'].sum() / 4\n",
    "sc_q3_pos = 3 * df_score['num_student'].sum() / 4\n",
    "\n",
    "sc_q1_row = df_score[df_score['stu_cumsum'] >= sc_q1_pos].iloc[0]\n",
    "sc_q1 = (sc_q1_row['from'] + sc_q1_row['to']) / 2\n",
    "\n",
    "sc_q3_row = df_score[df_score['stu_cumsum'] >= sc_q3_pos].iloc[0]\n",
    "sc_q3 = (sc_q3_row['from'] + sc_q3_row['to']) / 2\n",
    "\n",
    "print(f\"Q1 = {sc_q1}\")\n",
    "print(f\"Q3 = {sc_q3}\")"
   ]
  },
  {
   "cell_type": "markdown",
   "metadata": {
    "id": "eauxI2MaguGC"
   },
   "source": [
    "**3.2.5 D<sub>7</sub>**"
   ]
  },
  {
   "cell_type": "code",
   "execution_count": 51,
   "metadata": {
    "colab": {
     "base_uri": "https://localhost:8080/"
    },
    "executionInfo": {
     "elapsed": 20,
     "status": "ok",
     "timestamp": 1734578896729,
     "user": {
      "displayName": "Suphawinee CHATASAWAPREEDA",
      "userId": "08455372507310280385"
     },
     "user_tz": -420
    },
    "id": "IzmNQl-t-3BZ",
    "outputId": "7ae9e01e-9bf3-4166-cbd9-9fc0843dbaa1"
   },
   "outputs": [
    {
     "data": {
      "text/plain": [
       "np.float64(33.0)"
      ]
     },
     "execution_count": 51,
     "metadata": {},
     "output_type": "execute_result"
    }
   ],
   "source": [
    "#your code\n",
    "\n",
    "sc_d7_pos = 7 * df_score['num_student'].sum() / 10\n",
    "sc_d7_row = df_score[df_score['stu_cumsum'] >= sc_d7_pos].iloc[0]\n",
    "sc_d7 = (sc_d7_row['from'] + sc_d7_row['to']) / 2\n",
    "sc_d7"
   ]
  },
  {
   "cell_type": "markdown",
   "metadata": {
    "id": "ULdnf-dHguZj"
   },
   "source": [
    "**3.2.6 P<sub>75</sub>**"
   ]
  },
  {
   "cell_type": "code",
   "execution_count": 52,
   "metadata": {
    "colab": {
     "base_uri": "https://localhost:8080/"
    },
    "executionInfo": {
     "elapsed": 18,
     "status": "ok",
     "timestamp": 1734578896729,
     "user": {
      "displayName": "Suphawinee CHATASAWAPREEDA",
      "userId": "08455372507310280385"
     },
     "user_tz": -420
    },
    "id": "XkSuR48b-56W",
    "outputId": "3ef17c77-3339-4a6f-9a56-54bb6505b33b"
   },
   "outputs": [
    {
     "data": {
      "text/plain": [
       "np.float64(33.0)"
      ]
     },
     "execution_count": 52,
     "metadata": {},
     "output_type": "execute_result"
    }
   ],
   "source": [
    "#your code\n",
    "\n",
    "sc_p75_pos = 75 * df_score['num_student'].sum() / 100\n",
    "sc_p75_row = df_score[df_score['stu_cumsum'] >= sc_p75_pos].iloc[0]\n",
    "sc_p75 = (sc_p75_row['from'] + sc_p75_row['to']) / 2\n",
    "sc_p75"
   ]
  },
  {
   "cell_type": "markdown",
   "metadata": {
    "id": "V8tD6c5Cgu8S"
   },
   "source": [
    "**3.2.7 พิสัย**"
   ]
  },
  {
   "cell_type": "code",
   "execution_count": 53,
   "metadata": {
    "colab": {
     "base_uri": "https://localhost:8080/"
    },
    "executionInfo": {
     "elapsed": 1041,
     "status": "ok",
     "timestamp": 1734578897754,
     "user": {
      "displayName": "Suphawinee CHATASAWAPREEDA",
      "userId": "08455372507310280385"
     },
     "user_tz": -420
    },
    "id": "LTk6xNrm-7qZ",
    "outputId": "de444cf9-4ebe-4e3c-a9dc-95e7384b0303"
   },
   "outputs": [
    {
     "data": {
      "text/plain": [
       "np.int64(30)"
      ]
     },
     "execution_count": 53,
     "metadata": {},
     "output_type": "execute_result"
    }
   ],
   "source": [
    "#your code\n",
    "\n",
    "df_score['min_score'] = df_score['score'].str.split('-').str[0].astype(int)\n",
    "df_score['max_score'] = df_score['score'].str.split('-').str[1].astype(int)\n",
    "sc_range = df_score['max_score'].max() - df_score['min_score'].min() + 1\n",
    "sc_range"
   ]
  },
  {
   "cell_type": "markdown",
   "metadata": {
    "id": "9MkVinDAgvJx"
   },
   "source": [
    "\n",
    "**3.2.8 ส่วนเบี่ยงเบนควอร์ไทล์**"
   ]
  },
  {
   "cell_type": "code",
   "execution_count": 54,
   "metadata": {
    "colab": {
     "base_uri": "https://localhost:8080/"
    },
    "executionInfo": {
     "elapsed": 30,
     "status": "ok",
     "timestamp": 1734578897754,
     "user": {
      "displayName": "Suphawinee CHATASAWAPREEDA",
      "userId": "08455372507310280385"
     },
     "user_tz": -420
    },
    "id": "iG85sDHu-9eP",
    "outputId": "bbb7b054-69f7-434f-9c94-f22d7b76a110"
   },
   "outputs": [
    {
     "data": {
      "text/plain": [
       "np.float64(24.0)"
      ]
     },
     "execution_count": 54,
     "metadata": {},
     "output_type": "execute_result"
    }
   ],
   "source": [
    "#your code\n",
    "sc_qd = sc_q3-sc_q1 / 2\n",
    "sc_qd"
   ]
  },
  {
   "cell_type": "markdown",
   "metadata": {
    "id": "iQ82vURdgvXp"
   },
   "source": [
    "**3.2.9 ส่วนเบี่ยงเบนมาตราฐานและความแปรปรวน**"
   ]
  },
  {
   "cell_type": "code",
   "execution_count": 55,
   "metadata": {
    "colab": {
     "base_uri": "https://localhost:8080/",
     "height": 237
    },
    "executionInfo": {
     "elapsed": 391,
     "status": "ok",
     "timestamp": 1734579889072,
     "user": {
      "displayName": "Suphawinee CHATASAWAPREEDA",
      "userId": "08455372507310280385"
     },
     "user_tz": -420
    },
    "id": "3XKKNhKE-_iZ",
    "outputId": "b7309fe5-60e2-43f0-ead5-dcf99bdaab64"
   },
   "outputs": [
    {
     "data": {
      "text/plain": [
       "np.float64(8.356180800805918)"
      ]
     },
     "execution_count": 55,
     "metadata": {},
     "output_type": "execute_result"
    }
   ],
   "source": [
    "#your code\n",
    "sc_fx_sq = (df_score['num_student']*(df_score['mid']**2)).sum()\n",
    "sc_std = np.sqrt((sc_fx_sq - df_score['num_student'].sum()*sc_mean**2) / (df_score['num_student'].sum()-1))\n",
    "sc_std"
   ]
  },
  {
   "cell_type": "code",
   "execution_count": 56,
   "metadata": {},
   "outputs": [
    {
     "data": {
      "text/plain": [
       "np.float64(69.82575757575744)"
      ]
     },
     "execution_count": 56,
     "metadata": {},
     "output_type": "execute_result"
    }
   ],
   "source": [
    "sc_var = sc_std**2\n",
    "sc_var"
   ]
  },
  {
   "cell_type": "markdown",
   "metadata": {
    "id": "34_0j7kTgvlZ"
   },
   "source": [
    "**3.2.10 สัมประสิทธิ์ของการแปรผัน**"
   ]
  },
  {
   "cell_type": "code",
   "execution_count": 57,
   "metadata": {
    "executionInfo": {
     "elapsed": 19,
     "status": "ok",
     "timestamp": 1734578897754,
     "user": {
      "displayName": "Suphawinee CHATASAWAPREEDA",
      "userId": "08455372507310280385"
     },
     "user_tz": -420
    },
    "id": "Av4_wtGo_E_P"
   },
   "outputs": [
    {
     "data": {
      "text/plain": [
       "np.float64(32.32565106694746)"
      ]
     },
     "execution_count": 57,
     "metadata": {},
     "output_type": "execute_result"
    }
   ],
   "source": [
    "#your code\n",
    "sc_cv = sc_std / sc_mean * 100\n",
    "sc_cv\n",
    "# sd/mean*100"
   ]
  },
  {
   "cell_type": "markdown",
   "metadata": {
    "id": "UOIZ8YfAT1yH"
   },
   "source": [
    "###   "
   ]
  },
  {
   "cell_type": "markdown",
   "metadata": {
    "id": "yRFqnZpMUMow"
   },
   "source": [
    "3.3 บริษัทเกมแห่งหนึ่งได้ทำการทดสอบ game engine รุ่นใหม่ ในคอมพิวเตอร์ที่มีส่วนประกอบของฮารด์แวร์ต่างๆกัน (เช่น cpu, gpu, ram, ฯลฯ) จำนวน 30 เครื่อง และทำการวัดค่า frames per second (FPS) ได้ผลดังนี้  \n",
    "60.0, 30.2, 33.4, 59.9, 40.1, 25.5, 17.4, 28.6, 45.5, 57.8,  \n",
    "22.5, 50.2, 30.8, 43.1, 50.5, 35.5, 27.4, 29.2, 55.5, 10.2,   \n",
    "32.2, 27.8, 33.8, 53.4, 25.5, 30.4, 36.1, 49.3, 18.6, 50.0   \n",
    "จงคำนวณหาค่าเฉลี่ย, ส่วนเบี่ยงเบนมาตราฐาน, ฐานนิยม, Q<sub>1</sub>, D<sub>3</sub>, P<sub>45</sub> ของค่า FPS ที่ได้จากการทดสอบ"
   ]
  },
  {
   "cell_type": "markdown",
   "metadata": {
    "id": "RrpgMvIVZMAO"
   },
   "source": [
    "ค่าเฉลี่ย:"
   ]
  },
  {
   "cell_type": "code",
   "execution_count": 58,
   "metadata": {
    "executionInfo": {
     "elapsed": 19,
     "status": "ok",
     "timestamp": 1734578897755,
     "user": {
      "displayName": "Suphawinee CHATASAWAPREEDA",
      "userId": "08455372507310280385"
     },
     "user_tz": -420
    },
    "id": "nNZsstOK2kWT"
   },
   "outputs": [],
   "source": [
    "fps = [60.0, 30.2, 33.4, 59.9, 40.1, 25.5, 17.4, 28.6, 45.5, 57.8,\n",
    "       22.5, 50.2, 30.8, 43.1, 50.5, 35.5, 27.4, 29.2, 55.5, 10.2,\n",
    "       32.2, 27.8, 33.8, 53.4, 25.5, 30.4, 36.1, 49.3, 18.6, 50.0]"
   ]
  },
  {
   "cell_type": "code",
   "execution_count": 59,
   "metadata": {
    "colab": {
     "base_uri": "https://localhost:8080/"
    },
    "executionInfo": {
     "elapsed": 18,
     "status": "ok",
     "timestamp": 1734578897755,
     "user": {
      "displayName": "Suphawinee CHATASAWAPREEDA",
      "userId": "08455372507310280385"
     },
     "user_tz": -420
    },
    "id": "WNGFpJJZ_Ne_",
    "outputId": "fc6dd39b-0f31-4a50-bfdf-7598d5017924"
   },
   "outputs": [
    {
     "data": {
      "text/plain": [
       "37.013333333333335"
      ]
     },
     "execution_count": 59,
     "metadata": {},
     "output_type": "execute_result"
    }
   ],
   "source": [
    "#your code\n",
    "fps_mean = sum(fps) / len(fps)\n",
    "fps_mean"
   ]
  },
  {
   "cell_type": "markdown",
   "metadata": {
    "id": "9rKC0-TGZ1Jn"
   },
   "source": [
    "ส่วนเบี่ยงเบนมาตราฐาน:"
   ]
  },
  {
   "cell_type": "code",
   "execution_count": 60,
   "metadata": {
    "executionInfo": {
     "elapsed": 13,
     "status": "ok",
     "timestamp": 1734578897755,
     "user": {
      "displayName": "Suphawinee CHATASAWAPREEDA",
      "userId": "08455372507310280385"
     },
     "user_tz": -420
    },
    "id": "7c5z5X4n_P-J"
   },
   "outputs": [
    {
     "data": {
      "text/plain": [
       "np.float64(13.284771565802536)"
      ]
     },
     "execution_count": 60,
     "metadata": {},
     "output_type": "execute_result"
    }
   ],
   "source": [
    "#your code\n",
    "fps_sd = np.std(fps)\n",
    "fps_sd"
   ]
  },
  {
   "cell_type": "markdown",
   "metadata": {
    "id": "XuKipkyhaKVO"
   },
   "source": [
    "ฐานนิยม:"
   ]
  },
  {
   "cell_type": "code",
   "execution_count": 61,
   "metadata": {
    "executionInfo": {
     "elapsed": 12,
     "status": "ok",
     "timestamp": 1734578897755,
     "user": {
      "displayName": "Suphawinee CHATASAWAPREEDA",
      "userId": "08455372507310280385"
     },
     "user_tz": -420
    },
    "id": "epv26Wo-_RRn"
   },
   "outputs": [
    {
     "data": {
      "text/plain": [
       "25.5"
      ]
     },
     "execution_count": 61,
     "metadata": {},
     "output_type": "execute_result"
    }
   ],
   "source": [
    "#your code\n",
    "fps_mode = statistics.mode(fps)\n",
    "fps_mode"
   ]
  },
  {
   "cell_type": "markdown",
   "metadata": {
    "id": "jeBwd1pdaa-T"
   },
   "source": [
    "Q<sub>1</sub>, D<sub>3</sub> และ P<sub>45</sub>:  "
   ]
  },
  {
   "cell_type": "code",
   "execution_count": 62,
   "metadata": {
    "executionInfo": {
     "elapsed": 11,
     "status": "ok",
     "timestamp": 1734578897755,
     "user": {
      "displayName": "Suphawinee CHATASAWAPREEDA",
      "userId": "08455372507310280385"
     },
     "user_tz": -420
    },
    "id": "z2iA5ocP_neI"
   },
   "outputs": [
    {
     "name": "stdout",
     "output_type": "stream",
     "text": [
      "28.0\n",
      "29.02\n",
      "32.260000000000005\n"
     ]
    }
   ],
   "source": [
    "#your code\n",
    "fps_q1_pos = np.quantile(fps, 0.25)\n",
    "fps_d3_pos = np.quantile(fps, 0.3)\n",
    "fps_p45_pos = np.quantile(fps, 0.45)\n",
    "print(fps_q1_pos)\n",
    "print(fps_d3_pos)\n",
    "print(fps_p45_pos)"
   ]
  },
  {
   "cell_type": "markdown",
   "metadata": {
    "id": "rOM3ES47mEaR"
   },
   "source": [
    "###   "
   ]
  },
  {
   "cell_type": "markdown",
   "metadata": {
    "id": "m97H7Z-bmBn5"
   },
   "source": [
    "3.4 หน่วยงานวิจัยแห่งหนึ่งได้รับมอบหมายจากทางรัฐบาลให้ทำการเปรียบเทียบระบบที่ใช้ในการผลิตพลังงานกระแสไฟฟ้าสำหรับนิคมอุตสาหกรรมแห่งหนึ่ง ระบบแรกมีกำลังการผลิตสูงสุด 10,000 เมกะวัตต์ โดยมีค่าเฉลี่ยและส่วนเบี่ยงเบนมาตราฐานของกำลังการผลิตอยู่ที่ 9,000±320 เมกะวัตต์ ระบบที่สองมีกำลังการผลิตสูงสุด 15,000 เมกะวัตต์ โดยมีค่าเฉลี่ยและส่วนเบี่ยงเบนมาตราฐานของกำลังการผลิตอยู่ที่ 14,000±900 เมกะวัตต์ จากข้อมูลนี้ทางสถาบันวิจัยจะสามารถสรุปว่าระบบใดมีกำลังการผลิตที่เที่ยงตรงกว่า\n",
    "\n"
   ]
  },
  {
   "cell_type": "code",
   "execution_count": 63,
   "metadata": {
    "executionInfo": {
     "elapsed": 11,
     "status": "ok",
     "timestamp": 1734578897755,
     "user": {
      "displayName": "Suphawinee CHATASAWAPREEDA",
      "userId": "08455372507310280385"
     },
     "user_tz": -420
    },
    "id": "sikR8p5n_uTl"
   },
   "outputs": [
    {
     "name": "stdout",
     "output_type": "stream",
     "text": [
      "เครื่องที่ 1\n"
     ]
    }
   ],
   "source": [
    "#your code\n",
    "mac_1 = 320 * 100 / 9000\n",
    "mac_2 = 900 * 100 / 14000\n",
    "print(\"เครื่องที่ 1\" if mac_1 < mac_2 else \"เครื่องที่ 2\")\n"
   ]
  }
 ],
 "metadata": {
  "colab": {
   "provenance": [
    {
     "file_id": "1djRNxKcV9mvI-Yz8uSaXPdnQjais1JJB",
     "timestamp": 1734414593109
    }
   ]
  },
  "kernelspec": {
   "display_name": "Python 3",
   "name": "python3"
  },
  "language_info": {
   "codemirror_mode": {
    "name": "ipython",
    "version": 3
   },
   "file_extension": ".py",
   "mimetype": "text/x-python",
   "name": "python",
   "nbconvert_exporter": "python",
   "pygments_lexer": "ipython3",
   "version": "3.12.8"
  }
 },
 "nbformat": 4,
 "nbformat_minor": 0
}
