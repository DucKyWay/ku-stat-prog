{
  "cells": [
    {
      "cell_type": "markdown",
      "id": "d5a84c25-5dd2-4e1c-9610-0f32b929ab11",
      "metadata": {
        "id": "d5a84c25-5dd2-4e1c-9610-0f32b929ab11"
      },
      "source": [
        "# แบบฝึกหัด 2"
      ]
    },
    {
      "cell_type": "markdown",
      "id": "1de1213a-1891-4a0f-a326-f4b41157e2a2",
      "metadata": {
        "id": "1de1213a-1891-4a0f-a326-f4b41157e2a2"
      },
      "source": [
        "---"
      ]
    },
    {
      "cell_type": "markdown",
      "id": "0b2de3e5-4ca7-4040-b266-c6d233ec55b9",
      "metadata": {
        "id": "0b2de3e5-4ca7-4040-b266-c6d233ec55b9"
      },
      "source": [
        "จากข้อมูล titanic.csv ให้ทำการวิเคราะห์ข้อมูลเบื้องต้นเกี่ยวกับคอลัมน์ cabin  \n",
        "โดยแผนภาพด้านล่างนี้เป็นตำแหน่งของ cabin ตามตัวอักษรตัวแรกของรหัส cabin ที่บันทึกในชุดข้อมูล"
      ]
    },
    {
      "cell_type": "markdown",
      "id": "37cf63dc-319c-4178-9d4e-7b68cb920496",
      "metadata": {
        "id": "37cf63dc-319c-4178-9d4e-7b68cb920496"
      },
      "source": [
        "![titanic-cabin](https://upload.wikimedia.org/wikipedia/commons/thumb/0/0d/Olympic_%26_Titanic_cutaway_diagram.png/800px-Olympic_%26_Titanic_cutaway_diagram.png)"
      ]
    },
    {
      "cell_type": "markdown",
      "id": "2c29c391-d34e-4e5b-832b-8309cc048e38",
      "metadata": {
        "id": "2c29c391-d34e-4e5b-832b-8309cc048e38"
      },
      "source": [
        "ให้นิสิตสร้างคอลัมน์เพิ่ม โดยคอลัมน์ที่เพิ่มมานี้ จะเก็บข้อมูลของตัวอักษรตัวแรกที่ปรากฏในคอลัมน์ Cabin เช่น  \n",
        "- หากในคอลัมน์ Cabin เป็นค่า \"C123\" ในคอลัมน์ที่สร้างจะบันทึก \"C\"  \n",
        "- หากในคอลัมน์ Cabin เป็นค่า \"C23 C25 C27\" ในคอลัมน์ที่สร้างจะบันทึก \"C\"\n",
        "- หากในคอลัมน์ Cabin เป็นค่า \"B58 B60 C2\" ในคอลัมน์ที่สร้างจะบันทึก \"B\"\n",
        "- หากในคอลัมน์ Cabin เป็นค่า \"F2\" ในคอลัมน์ที่สร้างจะบันทึก \"F\"\n",
        "- หากในคอลัมน์ Cabin เป็นค่า NaN ในคอลัมน์ที่สร้างจะบันทึก NaN"
      ]
    },
    {
      "cell_type": "markdown",
      "id": "aae120b9-b64f-4dad-ae93-003c5a5d0ada",
      "metadata": {
        "id": "aae120b9-b64f-4dad-ae93-003c5a5d0ada"
      },
      "source": [
        "จากนั้นให้นิสิตเขียนโค้ดเพื่อตอบคำถามในแต่ละข้อ"
      ]
    },
    {
      "cell_type": "code",
      "execution_count": null,
      "id": "8bca888a-443e-49fa-8e1e-3be829633c05",
      "metadata": {
        "id": "8bca888a-443e-49fa-8e1e-3be829633c05"
      },
      "outputs": [],
      "source": [
        "import numpy as np\n",
        "import pandas as pd"
      ]
    },
    {
      "cell_type": "code",
      "execution_count": null,
      "id": "3a2c0f7f-f675-427e-8dab-5ce08d8fbf78",
      "metadata": {
        "id": "3a2c0f7f-f675-427e-8dab-5ce08d8fbf78",
        "outputId": "e6099bc8-5c88-405c-e4d4-35a2205a8db6",
        "colab": {
          "base_uri": "https://localhost:8080/",
          "height": 245
        }
      },
      "outputs": [
        {
          "output_type": "execute_result",
          "data": {
            "text/plain": [
              "   PassengerId  Survived  Pclass  \\\n",
              "0            1         0       3   \n",
              "1            2         1       1   \n",
              "2            3         1       3   \n",
              "3            4         1       1   \n",
              "4            5         0       3   \n",
              "\n",
              "                                                Name     Sex   Age  SibSp  \\\n",
              "0                            Braund, Mr. Owen Harris    male  22.0      1   \n",
              "1  Cumings, Mrs. John Bradley (Florence Briggs Th...  female  38.0      1   \n",
              "2                             Heikkinen, Miss. Laina  female  26.0      0   \n",
              "3       Futrelle, Mrs. Jacques Heath (Lily May Peel)  female  35.0      1   \n",
              "4                           Allen, Mr. William Henry    male  35.0      0   \n",
              "\n",
              "   Parch            Ticket     Fare Cabin Embarked  \n",
              "0      0         A/5 21171   7.2500   NaN        S  \n",
              "1      0          PC 17599  71.2833   C85        C  \n",
              "2      0  STON/O2. 3101282   7.9250   NaN        S  \n",
              "3      0            113803  53.1000  C123        S  \n",
              "4      0            373450   8.0500   NaN        S  "
            ],
            "text/html": [
              "\n",
              "  <div id=\"df-68817597-2e00-43e0-9ce9-40d208e1d3b6\" class=\"colab-df-container\">\n",
              "    <div>\n",
              "<style scoped>\n",
              "    .dataframe tbody tr th:only-of-type {\n",
              "        vertical-align: middle;\n",
              "    }\n",
              "\n",
              "    .dataframe tbody tr th {\n",
              "        vertical-align: top;\n",
              "    }\n",
              "\n",
              "    .dataframe thead th {\n",
              "        text-align: right;\n",
              "    }\n",
              "</style>\n",
              "<table border=\"1\" class=\"dataframe\">\n",
              "  <thead>\n",
              "    <tr style=\"text-align: right;\">\n",
              "      <th></th>\n",
              "      <th>PassengerId</th>\n",
              "      <th>Survived</th>\n",
              "      <th>Pclass</th>\n",
              "      <th>Name</th>\n",
              "      <th>Sex</th>\n",
              "      <th>Age</th>\n",
              "      <th>SibSp</th>\n",
              "      <th>Parch</th>\n",
              "      <th>Ticket</th>\n",
              "      <th>Fare</th>\n",
              "      <th>Cabin</th>\n",
              "      <th>Embarked</th>\n",
              "    </tr>\n",
              "  </thead>\n",
              "  <tbody>\n",
              "    <tr>\n",
              "      <th>0</th>\n",
              "      <td>1</td>\n",
              "      <td>0</td>\n",
              "      <td>3</td>\n",
              "      <td>Braund, Mr. Owen Harris</td>\n",
              "      <td>male</td>\n",
              "      <td>22.0</td>\n",
              "      <td>1</td>\n",
              "      <td>0</td>\n",
              "      <td>A/5 21171</td>\n",
              "      <td>7.2500</td>\n",
              "      <td>NaN</td>\n",
              "      <td>S</td>\n",
              "    </tr>\n",
              "    <tr>\n",
              "      <th>1</th>\n",
              "      <td>2</td>\n",
              "      <td>1</td>\n",
              "      <td>1</td>\n",
              "      <td>Cumings, Mrs. John Bradley (Florence Briggs Th...</td>\n",
              "      <td>female</td>\n",
              "      <td>38.0</td>\n",
              "      <td>1</td>\n",
              "      <td>0</td>\n",
              "      <td>PC 17599</td>\n",
              "      <td>71.2833</td>\n",
              "      <td>C85</td>\n",
              "      <td>C</td>\n",
              "    </tr>\n",
              "    <tr>\n",
              "      <th>2</th>\n",
              "      <td>3</td>\n",
              "      <td>1</td>\n",
              "      <td>3</td>\n",
              "      <td>Heikkinen, Miss. Laina</td>\n",
              "      <td>female</td>\n",
              "      <td>26.0</td>\n",
              "      <td>0</td>\n",
              "      <td>0</td>\n",
              "      <td>STON/O2. 3101282</td>\n",
              "      <td>7.9250</td>\n",
              "      <td>NaN</td>\n",
              "      <td>S</td>\n",
              "    </tr>\n",
              "    <tr>\n",
              "      <th>3</th>\n",
              "      <td>4</td>\n",
              "      <td>1</td>\n",
              "      <td>1</td>\n",
              "      <td>Futrelle, Mrs. Jacques Heath (Lily May Peel)</td>\n",
              "      <td>female</td>\n",
              "      <td>35.0</td>\n",
              "      <td>1</td>\n",
              "      <td>0</td>\n",
              "      <td>113803</td>\n",
              "      <td>53.1000</td>\n",
              "      <td>C123</td>\n",
              "      <td>S</td>\n",
              "    </tr>\n",
              "    <tr>\n",
              "      <th>4</th>\n",
              "      <td>5</td>\n",
              "      <td>0</td>\n",
              "      <td>3</td>\n",
              "      <td>Allen, Mr. William Henry</td>\n",
              "      <td>male</td>\n",
              "      <td>35.0</td>\n",
              "      <td>0</td>\n",
              "      <td>0</td>\n",
              "      <td>373450</td>\n",
              "      <td>8.0500</td>\n",
              "      <td>NaN</td>\n",
              "      <td>S</td>\n",
              "    </tr>\n",
              "  </tbody>\n",
              "</table>\n",
              "</div>\n",
              "    <div class=\"colab-df-buttons\">\n",
              "\n",
              "  <div class=\"colab-df-container\">\n",
              "    <button class=\"colab-df-convert\" onclick=\"convertToInteractive('df-68817597-2e00-43e0-9ce9-40d208e1d3b6')\"\n",
              "            title=\"Convert this dataframe to an interactive table.\"\n",
              "            style=\"display:none;\">\n",
              "\n",
              "  <svg xmlns=\"http://www.w3.org/2000/svg\" height=\"24px\" viewBox=\"0 -960 960 960\">\n",
              "    <path d=\"M120-120v-720h720v720H120Zm60-500h600v-160H180v160Zm220 220h160v-160H400v160Zm0 220h160v-160H400v160ZM180-400h160v-160H180v160Zm440 0h160v-160H620v160ZM180-180h160v-160H180v160Zm440 0h160v-160H620v160Z\"/>\n",
              "  </svg>\n",
              "    </button>\n",
              "\n",
              "  <style>\n",
              "    .colab-df-container {\n",
              "      display:flex;\n",
              "      gap: 12px;\n",
              "    }\n",
              "\n",
              "    .colab-df-convert {\n",
              "      background-color: #E8F0FE;\n",
              "      border: none;\n",
              "      border-radius: 50%;\n",
              "      cursor: pointer;\n",
              "      display: none;\n",
              "      fill: #1967D2;\n",
              "      height: 32px;\n",
              "      padding: 0 0 0 0;\n",
              "      width: 32px;\n",
              "    }\n",
              "\n",
              "    .colab-df-convert:hover {\n",
              "      background-color: #E2EBFA;\n",
              "      box-shadow: 0px 1px 2px rgba(60, 64, 67, 0.3), 0px 1px 3px 1px rgba(60, 64, 67, 0.15);\n",
              "      fill: #174EA6;\n",
              "    }\n",
              "\n",
              "    .colab-df-buttons div {\n",
              "      margin-bottom: 4px;\n",
              "    }\n",
              "\n",
              "    [theme=dark] .colab-df-convert {\n",
              "      background-color: #3B4455;\n",
              "      fill: #D2E3FC;\n",
              "    }\n",
              "\n",
              "    [theme=dark] .colab-df-convert:hover {\n",
              "      background-color: #434B5C;\n",
              "      box-shadow: 0px 1px 3px 1px rgba(0, 0, 0, 0.15);\n",
              "      filter: drop-shadow(0px 1px 2px rgba(0, 0, 0, 0.3));\n",
              "      fill: #FFFFFF;\n",
              "    }\n",
              "  </style>\n",
              "\n",
              "    <script>\n",
              "      const buttonEl =\n",
              "        document.querySelector('#df-68817597-2e00-43e0-9ce9-40d208e1d3b6 button.colab-df-convert');\n",
              "      buttonEl.style.display =\n",
              "        google.colab.kernel.accessAllowed ? 'block' : 'none';\n",
              "\n",
              "      async function convertToInteractive(key) {\n",
              "        const element = document.querySelector('#df-68817597-2e00-43e0-9ce9-40d208e1d3b6');\n",
              "        const dataTable =\n",
              "          await google.colab.kernel.invokeFunction('convertToInteractive',\n",
              "                                                    [key], {});\n",
              "        if (!dataTable) return;\n",
              "\n",
              "        const docLinkHtml = 'Like what you see? Visit the ' +\n",
              "          '<a target=\"_blank\" href=https://colab.research.google.com/notebooks/data_table.ipynb>data table notebook</a>'\n",
              "          + ' to learn more about interactive tables.';\n",
              "        element.innerHTML = '';\n",
              "        dataTable['output_type'] = 'display_data';\n",
              "        await google.colab.output.renderOutput(dataTable, element);\n",
              "        const docLink = document.createElement('div');\n",
              "        docLink.innerHTML = docLinkHtml;\n",
              "        element.appendChild(docLink);\n",
              "      }\n",
              "    </script>\n",
              "  </div>\n",
              "\n",
              "\n",
              "<div id=\"df-9fb76f1d-20dd-4642-8f7e-d3b980a6bc35\">\n",
              "  <button class=\"colab-df-quickchart\" onclick=\"quickchart('df-9fb76f1d-20dd-4642-8f7e-d3b980a6bc35')\"\n",
              "            title=\"Suggest charts\"\n",
              "            style=\"display:none;\">\n",
              "\n",
              "<svg xmlns=\"http://www.w3.org/2000/svg\" height=\"24px\"viewBox=\"0 0 24 24\"\n",
              "     width=\"24px\">\n",
              "    <g>\n",
              "        <path d=\"M19 3H5c-1.1 0-2 .9-2 2v14c0 1.1.9 2 2 2h14c1.1 0 2-.9 2-2V5c0-1.1-.9-2-2-2zM9 17H7v-7h2v7zm4 0h-2V7h2v10zm4 0h-2v-4h2v4z\"/>\n",
              "    </g>\n",
              "</svg>\n",
              "  </button>\n",
              "\n",
              "<style>\n",
              "  .colab-df-quickchart {\n",
              "      --bg-color: #E8F0FE;\n",
              "      --fill-color: #1967D2;\n",
              "      --hover-bg-color: #E2EBFA;\n",
              "      --hover-fill-color: #174EA6;\n",
              "      --disabled-fill-color: #AAA;\n",
              "      --disabled-bg-color: #DDD;\n",
              "  }\n",
              "\n",
              "  [theme=dark] .colab-df-quickchart {\n",
              "      --bg-color: #3B4455;\n",
              "      --fill-color: #D2E3FC;\n",
              "      --hover-bg-color: #434B5C;\n",
              "      --hover-fill-color: #FFFFFF;\n",
              "      --disabled-bg-color: #3B4455;\n",
              "      --disabled-fill-color: #666;\n",
              "  }\n",
              "\n",
              "  .colab-df-quickchart {\n",
              "    background-color: var(--bg-color);\n",
              "    border: none;\n",
              "    border-radius: 50%;\n",
              "    cursor: pointer;\n",
              "    display: none;\n",
              "    fill: var(--fill-color);\n",
              "    height: 32px;\n",
              "    padding: 0;\n",
              "    width: 32px;\n",
              "  }\n",
              "\n",
              "  .colab-df-quickchart:hover {\n",
              "    background-color: var(--hover-bg-color);\n",
              "    box-shadow: 0 1px 2px rgba(60, 64, 67, 0.3), 0 1px 3px 1px rgba(60, 64, 67, 0.15);\n",
              "    fill: var(--button-hover-fill-color);\n",
              "  }\n",
              "\n",
              "  .colab-df-quickchart-complete:disabled,\n",
              "  .colab-df-quickchart-complete:disabled:hover {\n",
              "    background-color: var(--disabled-bg-color);\n",
              "    fill: var(--disabled-fill-color);\n",
              "    box-shadow: none;\n",
              "  }\n",
              "\n",
              "  .colab-df-spinner {\n",
              "    border: 2px solid var(--fill-color);\n",
              "    border-color: transparent;\n",
              "    border-bottom-color: var(--fill-color);\n",
              "    animation:\n",
              "      spin 1s steps(1) infinite;\n",
              "  }\n",
              "\n",
              "  @keyframes spin {\n",
              "    0% {\n",
              "      border-color: transparent;\n",
              "      border-bottom-color: var(--fill-color);\n",
              "      border-left-color: var(--fill-color);\n",
              "    }\n",
              "    20% {\n",
              "      border-color: transparent;\n",
              "      border-left-color: var(--fill-color);\n",
              "      border-top-color: var(--fill-color);\n",
              "    }\n",
              "    30% {\n",
              "      border-color: transparent;\n",
              "      border-left-color: var(--fill-color);\n",
              "      border-top-color: var(--fill-color);\n",
              "      border-right-color: var(--fill-color);\n",
              "    }\n",
              "    40% {\n",
              "      border-color: transparent;\n",
              "      border-right-color: var(--fill-color);\n",
              "      border-top-color: var(--fill-color);\n",
              "    }\n",
              "    60% {\n",
              "      border-color: transparent;\n",
              "      border-right-color: var(--fill-color);\n",
              "    }\n",
              "    80% {\n",
              "      border-color: transparent;\n",
              "      border-right-color: var(--fill-color);\n",
              "      border-bottom-color: var(--fill-color);\n",
              "    }\n",
              "    90% {\n",
              "      border-color: transparent;\n",
              "      border-bottom-color: var(--fill-color);\n",
              "    }\n",
              "  }\n",
              "</style>\n",
              "\n",
              "  <script>\n",
              "    async function quickchart(key) {\n",
              "      const quickchartButtonEl =\n",
              "        document.querySelector('#' + key + ' button');\n",
              "      quickchartButtonEl.disabled = true;  // To prevent multiple clicks.\n",
              "      quickchartButtonEl.classList.add('colab-df-spinner');\n",
              "      try {\n",
              "        const charts = await google.colab.kernel.invokeFunction(\n",
              "            'suggestCharts', [key], {});\n",
              "      } catch (error) {\n",
              "        console.error('Error during call to suggestCharts:', error);\n",
              "      }\n",
              "      quickchartButtonEl.classList.remove('colab-df-spinner');\n",
              "      quickchartButtonEl.classList.add('colab-df-quickchart-complete');\n",
              "    }\n",
              "    (() => {\n",
              "      let quickchartButtonEl =\n",
              "        document.querySelector('#df-9fb76f1d-20dd-4642-8f7e-d3b980a6bc35 button');\n",
              "      quickchartButtonEl.style.display =\n",
              "        google.colab.kernel.accessAllowed ? 'block' : 'none';\n",
              "    })();\n",
              "  </script>\n",
              "</div>\n",
              "\n",
              "    </div>\n",
              "  </div>\n"
            ],
            "application/vnd.google.colaboratory.intrinsic+json": {
              "type": "dataframe",
              "variable_name": "df",
              "summary": "{\n  \"name\": \"df\",\n  \"rows\": 891,\n  \"fields\": [\n    {\n      \"column\": \"PassengerId\",\n      \"properties\": {\n        \"dtype\": \"number\",\n        \"std\": 257,\n        \"min\": 1,\n        \"max\": 891,\n        \"num_unique_values\": 891,\n        \"samples\": [\n          710,\n          440,\n          841\n        ],\n        \"semantic_type\": \"\",\n        \"description\": \"\"\n      }\n    },\n    {\n      \"column\": \"Survived\",\n      \"properties\": {\n        \"dtype\": \"number\",\n        \"std\": 0,\n        \"min\": 0,\n        \"max\": 1,\n        \"num_unique_values\": 2,\n        \"samples\": [\n          1,\n          0\n        ],\n        \"semantic_type\": \"\",\n        \"description\": \"\"\n      }\n    },\n    {\n      \"column\": \"Pclass\",\n      \"properties\": {\n        \"dtype\": \"number\",\n        \"std\": 0,\n        \"min\": 1,\n        \"max\": 3,\n        \"num_unique_values\": 3,\n        \"samples\": [\n          3,\n          1\n        ],\n        \"semantic_type\": \"\",\n        \"description\": \"\"\n      }\n    },\n    {\n      \"column\": \"Name\",\n      \"properties\": {\n        \"dtype\": \"string\",\n        \"num_unique_values\": 891,\n        \"samples\": [\n          \"Moubarek, Master. Halim Gonios (\\\"William George\\\")\",\n          \"Kvillner, Mr. Johan Henrik Johannesson\"\n        ],\n        \"semantic_type\": \"\",\n        \"description\": \"\"\n      }\n    },\n    {\n      \"column\": \"Sex\",\n      \"properties\": {\n        \"dtype\": \"category\",\n        \"num_unique_values\": 2,\n        \"samples\": [\n          \"female\",\n          \"male\"\n        ],\n        \"semantic_type\": \"\",\n        \"description\": \"\"\n      }\n    },\n    {\n      \"column\": \"Age\",\n      \"properties\": {\n        \"dtype\": \"number\",\n        \"std\": 14.526497332334044,\n        \"min\": 0.42,\n        \"max\": 80.0,\n        \"num_unique_values\": 88,\n        \"samples\": [\n          0.75,\n          22.0\n        ],\n        \"semantic_type\": \"\",\n        \"description\": \"\"\n      }\n    },\n    {\n      \"column\": \"SibSp\",\n      \"properties\": {\n        \"dtype\": \"number\",\n        \"std\": 1,\n        \"min\": 0,\n        \"max\": 8,\n        \"num_unique_values\": 7,\n        \"samples\": [\n          1,\n          0\n        ],\n        \"semantic_type\": \"\",\n        \"description\": \"\"\n      }\n    },\n    {\n      \"column\": \"Parch\",\n      \"properties\": {\n        \"dtype\": \"number\",\n        \"std\": 0,\n        \"min\": 0,\n        \"max\": 6,\n        \"num_unique_values\": 7,\n        \"samples\": [\n          0,\n          1\n        ],\n        \"semantic_type\": \"\",\n        \"description\": \"\"\n      }\n    },\n    {\n      \"column\": \"Ticket\",\n      \"properties\": {\n        \"dtype\": \"string\",\n        \"num_unique_values\": 681,\n        \"samples\": [\n          \"11774\",\n          \"248740\"\n        ],\n        \"semantic_type\": \"\",\n        \"description\": \"\"\n      }\n    },\n    {\n      \"column\": \"Fare\",\n      \"properties\": {\n        \"dtype\": \"number\",\n        \"std\": 49.693428597180905,\n        \"min\": 0.0,\n        \"max\": 512.3292,\n        \"num_unique_values\": 248,\n        \"samples\": [\n          11.2417,\n          51.8625\n        ],\n        \"semantic_type\": \"\",\n        \"description\": \"\"\n      }\n    },\n    {\n      \"column\": \"Cabin\",\n      \"properties\": {\n        \"dtype\": \"category\",\n        \"num_unique_values\": 147,\n        \"samples\": [\n          \"D45\",\n          \"B49\"\n        ],\n        \"semantic_type\": \"\",\n        \"description\": \"\"\n      }\n    },\n    {\n      \"column\": \"Embarked\",\n      \"properties\": {\n        \"dtype\": \"category\",\n        \"num_unique_values\": 3,\n        \"samples\": [\n          \"S\",\n          \"C\"\n        ],\n        \"semantic_type\": \"\",\n        \"description\": \"\"\n      }\n    }\n  ]\n}"
            }
          },
          "metadata": {},
          "execution_count": 5
        }
      ],
      "source": [
        "df = pd.read_csv(\"https://raw.githubusercontent.com/ThammakornS/ProgStat/main/dataset/titanic.csv\")\n",
        "df.head()"
      ]
    },
    {
      "cell_type": "markdown",
      "id": "a22810d5-b0e3-47d8-95b9-c45da2cc085e",
      "metadata": {
        "id": "a22810d5-b0e3-47d8-95b9-c45da2cc085e"
      },
      "source": [
        "นิสิตแสดงวิธีสร้างคอลัมน์"
      ]
    },
    {
      "cell_type": "code",
      "execution_count": null,
      "id": "1020deae-43bd-46f1-aa35-3f979ecfbf91",
      "metadata": {
        "id": "1020deae-43bd-46f1-aa35-3f979ecfbf91"
      },
      "outputs": [],
      "source": [
        "#your code\n",
        "df[\"cabin_letter\"] = df[\"Name\"].str[0]"
      ]
    },
    {
      "cell_type": "markdown",
      "id": "46afd374-6101-4afe-9bf3-c7b0c3d97c61",
      "metadata": {
        "id": "46afd374-6101-4afe-9bf3-c7b0c3d97c61"
      },
      "source": [
        "1. ในแต่ละตัวอักษร Cabin มีจำนวนผู้โดยสารกี่คน และมีจำนวน NaN เท่าไหร่"
      ]
    },
    {
      "cell_type": "code",
      "execution_count": null,
      "id": "0484cb7d-29b4-44f1-90f5-16fef7266314",
      "metadata": {
        "tags": [],
        "id": "0484cb7d-29b4-44f1-90f5-16fef7266314",
        "colab": {
          "base_uri": "https://localhost:8080/"
        },
        "outputId": "561c46ec-c2ef-4de3-e7aa-1eff1e8c2af7"
      },
      "outputs": [
        {
          "output_type": "stream",
          "name": "stdout",
          "text": [
            "Cabin\n",
            "A     15\n",
            "B     47\n",
            "C     59\n",
            "D     33\n",
            "E     32\n",
            "F     13\n",
            "G      4\n",
            "N    687\n",
            "T      1\n",
            "Name: count, dtype: int64\n",
            "NaN:  687\n"
          ]
        }
      ],
      "source": [
        "#your code # value_count()\n",
        "print(df[\"Cabin\"].fillna(\"NaN\").str[0].value_counts().sort_index())\n",
        "print(\"NaN: \", df[\"Cabin\"].isna().sum())"
      ]
    },
    {
      "cell_type": "markdown",
      "id": "57a7dce3-b43f-42ac-ba6d-8219ff953804",
      "metadata": {
        "id": "57a7dce3-b43f-42ac-ba6d-8219ff953804"
      },
      "source": [
        "2. ในแต่ละตัวอักษร Cabin มีจำนวนผู้โดยสารที่รอดและเสียชีวิตอย่างละเท่าไหร่ cabin ใดมีจำนวนผู้เสียชีวิตมากที่สุด"
      ]
    },
    {
      "cell_type": "code",
      "execution_count": null,
      "id": "716596c4-e25a-4ff4-be66-f0c7d17a315b",
      "metadata": {
        "id": "716596c4-e25a-4ff4-be66-f0c7d17a315b",
        "colab": {
          "base_uri": "https://localhost:8080/"
        },
        "outputId": "0b9c43aa-6bf2-44cc-8340-1f0386b35e07"
      },
      "outputs": [
        {
          "output_type": "stream",
          "name": "stdout",
          "text": [
            "Survived        0     1\n",
            "CabinLetter            \n",
            "A             8.0   7.0\n",
            "B            12.0  35.0\n",
            "C            24.0  35.0\n",
            "D             8.0  25.0\n",
            "E             8.0  24.0\n",
            "F             5.0   8.0\n",
            "G             2.0   2.0\n",
            "T             1.0   NaN\n",
            "============================\n",
            "Cabin ทีมีคนเสียชีวิตมากที่สุด C\n"
          ]
        }
      ],
      "source": [
        "#your code\n",
        "df[\"CabinLetter\"] = df[\"Cabin\"].str[0]\n",
        "cabin_survived = df.groupby([\"CabinLetter\", \"Survived\"]).size().unstack()\n",
        "print(cabin_survived)\n",
        "print(\"============================\")\n",
        "print(\"Cabin ทีมีคนเสียชีวิตมากที่สุด\", cabin_survived[0].idxmax())"
      ]
    },
    {
      "cell_type": "markdown",
      "id": "ffe01048-7001-44ed-a318-f46c79e49fb8",
      "metadata": {
        "id": "ffe01048-7001-44ed-a318-f46c79e49fb8"
      },
      "source": [
        "3. cabin ใดมีค่า สัดส่วน จำนวนผู้รอดชีวิตหารด้วยจำนวนผู้เสียชีวิต สูงสุด"
      ]
    },
    {
      "cell_type": "code",
      "execution_count": null,
      "id": "f38c0470-9acf-491d-8233-32acc258714d",
      "metadata": {
        "id": "f38c0470-9acf-491d-8233-32acc258714d",
        "colab": {
          "base_uri": "https://localhost:8080/"
        },
        "outputId": "5a1b9b57-58b7-4350-bc08-000290a60a7d"
      },
      "outputs": [
        {
          "output_type": "stream",
          "name": "stdout",
          "text": [
            "D\n"
          ]
        }
      ],
      "source": [
        "# your code\n",
        "\n",
        "# print(df.groupby(\"CabinLetter\")[\"Survived\"].value_counts().unstack(fill_value=0))\n",
        "stats = df.groupby(\"CabinLetter\")[\"Survived\"].value_counts().unstack(fill_value=0)\n",
        "test = stats[1] / stats[0]\n",
        "print(test.idxmax())"
      ]
    },
    {
      "cell_type": "markdown",
      "id": "e2069dfd-233b-4979-83dd-b2408928d1d1",
      "metadata": {
        "id": "e2069dfd-233b-4979-83dd-b2408928d1d1"
      },
      "source": [
        "4. cabin ใดมีค่าเฉลี่ยราคาตั๋ว (Fare) สูงสุด"
      ]
    },
    {
      "cell_type": "code",
      "execution_count": null,
      "id": "ad74e21d-2d51-467d-8e90-c41d61d76c52",
      "metadata": {
        "id": "ad74e21d-2d51-467d-8e90-c41d61d76c52",
        "colab": {
          "base_uri": "https://localhost:8080/"
        },
        "outputId": "2cd4ad01-0a7d-451d-c732-fe940bc96546"
      },
      "outputs": [
        {
          "output_type": "stream",
          "name": "stdout",
          "text": [
            "B101\n"
          ]
        }
      ],
      "source": [
        "#your code df[[\"Pclass\", \"Fare\"]]\n",
        "print(df.groupby(\"Cabin\")[\"Fare\"].mean().idxmax())"
      ]
    },
    {
      "cell_type": "markdown",
      "id": "629756d5-c13f-45e9-96d4-a26457fc61b7",
      "metadata": {
        "id": "629756d5-c13f-45e9-96d4-a26457fc61b7"
      },
      "source": [
        "5. จงแสดงค่าเฉลี่ยราคาตั๋ว (Fare) ของผู้รอดชีวิต และผู้เสียชีวิต ในแต่ละ cabin หากเปรียบเทียบราคาเฉลี่ยของผู้ที่รอดและเสียชีวิตจะพบว่า"
      ]
    },
    {
      "cell_type": "code",
      "execution_count": null,
      "id": "cbd636f4-6aa5-4766-8bd1-5eae44209c86",
      "metadata": {
        "id": "cbd636f4-6aa5-4766-8bd1-5eae44209c86",
        "colab": {
          "base_uri": "https://localhost:8080/"
        },
        "outputId": "f0633d42-1898-44ad-8725-49cb8d7f80aa"
      },
      "outputs": [
        {
          "output_type": "stream",
          "name": "stdout",
          "text": [
            "Survived             0           1\n",
            "CabinLetter                       \n",
            "A            35.496350   44.341071\n",
            "B            57.137500  132.832026\n",
            "C            99.972396  100.274046\n",
            "D            53.770825   58.356176\n",
            "E            43.715625   46.797050\n",
            "F            11.340000   23.294787\n",
            "G            10.462500   16.700000\n",
            "T            35.500000         NaN\n"
          ]
        }
      ],
      "source": [
        "#your code\n",
        "print(df.groupby([\"CabinLetter\", \"Survived\"])[\"Fare\"].mean().unstack())"
      ]
    },
    {
      "cell_type": "markdown",
      "id": "d88f552b-3d5d-45ed-b821-e27655e25115",
      "metadata": {
        "id": "d88f552b-3d5d-45ed-b821-e27655e25115"
      },
      "source": [
        "6. ในแต่ละอักษร cabin มีจำนวนผู้โดยสารแยกตาม Pclass อย่างละกี่คน"
      ]
    },
    {
      "cell_type": "code",
      "execution_count": null,
      "id": "be145608-4da3-4dac-8ca1-35ef78518366",
      "metadata": {
        "id": "be145608-4da3-4dac-8ca1-35ef78518366",
        "colab": {
          "base_uri": "https://localhost:8080/"
        },
        "outputId": "89923ace-5bc1-44aa-969b-88e911ffce64"
      },
      "outputs": [
        {
          "output_type": "stream",
          "name": "stdout",
          "text": [
            "Pclass          1    2    3\n",
            "CabinLetter                \n",
            "A            15.0  NaN  NaN\n",
            "B            47.0  NaN  NaN\n",
            "C            59.0  NaN  NaN\n",
            "D            29.0  4.0  NaN\n",
            "E            25.0  4.0  3.0\n",
            "F             NaN  8.0  5.0\n",
            "G             NaN  NaN  4.0\n",
            "T             1.0  NaN  NaN\n"
          ]
        }
      ],
      "source": [
        "#your code\n",
        "print(df.groupby([df[\"CabinLetter\"], \"Pclass\"]).size().unstack())"
      ]
    }
  ],
  "metadata": {
    "kernelspec": {
      "display_name": "Python 3 (ipykernel)",
      "language": "python",
      "name": "python3"
    },
    "language_info": {
      "codemirror_mode": {
        "name": "ipython",
        "version": 3
      },
      "file_extension": ".py",
      "mimetype": "text/x-python",
      "name": "python",
      "nbconvert_exporter": "python",
      "pygments_lexer": "ipython3",
      "version": "3.9.13"
    },
    "colab": {
      "provenance": []
    }
  },
  "nbformat": 4,
  "nbformat_minor": 5
}