{
  "cells": [
    {
      "cell_type": "markdown",
      "metadata": {
        "id": "U3ArbMi8JHGD"
      },
      "source": [
        "# แบบฝึกหัด 5"
      ]
    },
    {
      "cell_type": "markdown",
      "metadata": {
        "id": "t9RQYuu-JUwP"
      },
      "source": [
        "---"
      ]
    },
    {
      "cell_type": "code",
      "execution_count": 6,
      "metadata": {
        "id": "5LcuhePsgM1w"
      },
      "outputs": [
        {
          "ename": "ModuleNotFoundError",
          "evalue": "No module named 'statsmodels'",
          "output_type": "error",
          "traceback": [
            "\u001b[1;31m---------------------------------------------------------------------------\u001b[0m",
            "\u001b[1;31mModuleNotFoundError\u001b[0m                       Traceback (most recent call last)",
            "Cell \u001b[1;32mIn[6], line 3\u001b[0m\n\u001b[0;32m      1\u001b[0m \u001b[38;5;28;01mimport\u001b[39;00m \u001b[38;5;21;01mnumpy\u001b[39;00m \u001b[38;5;28;01mas\u001b[39;00m \u001b[38;5;21;01mnp\u001b[39;00m\n\u001b[0;32m      2\u001b[0m \u001b[38;5;28;01mfrom\u001b[39;00m \u001b[38;5;21;01mscipy\u001b[39;00m \u001b[38;5;28;01mimport\u001b[39;00m stats\n\u001b[1;32m----> 3\u001b[0m \u001b[38;5;28;01mfrom\u001b[39;00m \u001b[38;5;21;01mstatsmodels\u001b[39;00m\u001b[38;5;21;01m.\u001b[39;00m\u001b[38;5;21;01mstats\u001b[39;00m\u001b[38;5;21;01m.\u001b[39;00m\u001b[38;5;21;01mweightstats\u001b[39;00m \u001b[38;5;28;01mimport\u001b[39;00m ztest\n",
            "\u001b[1;31mModuleNotFoundError\u001b[0m: No module named 'statsmodels'"
          ]
        }
      ],
      "source": [
        "import numpy as np\n",
        "from scipy import stats\n",
        "from statsmodels.stats.weightstats import ztest"
      ]
    },
    {
      "cell_type": "markdown",
      "metadata": {
        "id": "ag3TNOoapF2I"
      },
      "source": [
        "5.1 จากการเก็บข้อมูลของบูธร้านค้าร้านหนึ่งในงานเกษตรแฟร์โดยสุ่มตัวอย่างลูกค้ามาทั้งหมด 200 คน พบว่ามีอายุเฉลี่ย 42.8 ปี ส่วนเบี่ยงเบนมาตราฐาน 6.89 ปี ผู้ประกอบการร้านแห่งนี้จึงตั้งสมมุติฐานว่า ลูกค้าของทางร้านมีอายุเฉลี่ยสูงกว่า 40 ปี ที่ระดับนัยสำคัญ 0.01 สมมุติฐานนี้ถูกต้องหรือไม่ หากกำหนดให้การแจกแจงของอายุเป็นแบบปกติ  "
      ]
    },
    {
      "cell_type": "code",
      "execution_count": 3,
      "metadata": {
        "id": "eGMlvK2UXrtE"
      },
      "outputs": [
        {
          "name": "stdout",
          "output_type": "stream",
          "text": [
            "2.3263478740408408\n",
            "5.747166871762936\n",
            "4.537557863298819e-09\n",
            "สมมุติฐานถูก -> z_cal < z_crit\n"
          ]
        }
      ],
      "source": [
        "z_crit = stats.norm.isf(1/100)\n",
        "z_cal = (42.8 - 40)/(6.89/np.sqrt(200))\n",
        "p_value = stats.norm.sf(z_cal)\n",
        "print(z_crit)\n",
        "print(z_cal)\n",
        "print(p_value)\n",
        "print(\"สมมุติฐานถูก -> z_cal < z_crit\")"
      ]
    },
    {
      "cell_type": "markdown",
      "metadata": {
        "id": "IzcoD0hL8AQB"
      },
      "source": [
        "###   "
      ]
    },
    {
      "cell_type": "markdown",
      "metadata": {
        "id": "QIrBZzg28EEi"
      },
      "source": [
        "5.2 สุ่มตัวอย่างผลิตภัณฑ์ซักล้างยี่ห้อหนึ่งมาจำนวน 8 ชิ้นเพื่อวัดปริมาณสารพิษ พบว่าได้ปริมาณดังนี้ (10<sup>6</sup>ppm) 15, 8, 10, 13, 6, 16, 11, 18 จงทดสอบว่าปริมาณสารพิษของผลิตภัณฑ์ซักล้างยี่ห้อนี้มากกว่าหรือเท่ากับ (≥) 18x10<sup>6</sup>ppm ที่ระดับนัยสำคัญ 0.05 หรือไม่ หากกำหนดให้ปริมาณสารพิษชนิดนี้มีการแจกแจงแบบปกติ      "
      ]
    },
    {
      "cell_type": "code",
      "execution_count": null,
      "metadata": {
        "id": "z7-tVncsuMB2"
      },
      "outputs": [],
      "source": [
        "ls_sam = [15, 8, 10, 13, 6, 16, 11, 18]\n",
        "z_cal, p_val = ztest(ls_sam, value=18, alternative='larger')\n",
        "print(z_cal,p_val)\n",
        "print(\"สารพิษยี่ห้อนี้ < 18x10 ^ 6 ppm \")"
      ]
    },
    {
      "cell_type": "markdown",
      "metadata": {
        "id": "NfuOc0DEX-mV"
      },
      "source": [
        "###   "
      ]
    },
    {
      "cell_type": "markdown",
      "metadata": {
        "id": "LRa6VC8dX-mc"
      },
      "source": [
        "5.3 ทำการ ping 158.108.216.5 จำนวน 10 ครั้ง ได้ระยะเวลาในหน่วย ms (milliseconds) ดังนี้ 28.2, 26.5, 30.7, 24.1, 25.3, 29.2, 21.6, 26.7, 23.4, 27.3 จงทดสอบว่าระยะเวลาที่ใช้ในการ ping โดยเฉลี่ยมีค่าเท่ากับ 26 ms หรือไม่ที่ระดับนัยสำคัญ 0.05 หากทราบมาว่าระยะเวลาที่ใช้ในการ ping มีการแจกแจงแบบปกติ"
      ]
    },
    {
      "cell_type": "code",
      "execution_count": null,
      "metadata": {
        "id": "4SyUkxgouNU4"
      },
      "outputs": [],
      "source": [
        "ls_sam = [28.2, 26.5, 30.7, 24.1, 25.3, 29.2, 21.6, 26.7, 23.4, 27.3]\n",
        "z_cal, p_val = ztest(ls_sam, value=26, alternative='two-sided')\n",
        "print(z_cal,p_val)\n",
        "print(\"ping time เฉลี่ยมีค่า 26 ms \")"
      ]
    },
    {
      "cell_type": "markdown",
      "metadata": {
        "id": "2L30gP1ae_Du"
      },
      "source": [
        "###   "
      ]
    },
    {
      "cell_type": "markdown",
      "metadata": {
        "id": "jb1NBlWke_D2"
      },
      "source": [
        "5.4 ห้องปฏิบัติการ 2 แห่ง สุ่มตรวจสอบปริมาณนิโคตินในบุหรี่ยี่ห้อหนึ่งด้ผลการวิเคราะห์ปริมาณนิโคติน (มิลลิกรัม) ดังนี้  \n",
        "ห้องปฏิบัติการ1: 56, 37, 61, 56, 65, 41, 63, 50, 42   \n",
        "ห้องปฏิบัติการ2: 46, 25, 46, 64, 34, 56   \n",
        "จงทดสอบสมมติฐานว่าปริมาณนิโคตินที่วิเคราะห์ได้โดยห้องปฏิบัติการสองแห่งนี้ไม่แตกต่างกัน\n",
        "ที่ระดับนัยสำคัญ 0.10 หากกำหนดให้ปริมาณนิโคตินในบุหรี่ที่วิเคราะห์ได้โดยห้องปฏิบัติการทั้งสองมีการ\n",
        "แจกแจงแบบปกติที่มีค่าความแปรปรวนเท่ากัน  "
      ]
    },
    {
      "cell_type": "code",
      "execution_count": null,
      "metadata": {
        "id": "r4oVfpk9uTVG"
      },
      "outputs": [],
      "source": [
        "direc_1 = [56, 37, 61, 56, 65, 41, 63, 50, 42]\n",
        "direc_2 = [46, 25, 46, 64, 34, 56]\n",
        "z_cal,p_val = ztest(direc_1, direc_2, alternative='two-sided')\n",
        "print(z_cal,p_val)\n",
        "print(\"นิโคตินสองแห่งนี้ไม่แตกต่างกัน\")"
      ]
    },
    {
      "cell_type": "markdown",
      "metadata": {
        "id": "HV7pSFLVjP8J"
      },
      "source": [
        "###   "
      ]
    },
    {
      "cell_type": "markdown",
      "metadata": {
        "id": "9IshON3wjP8J"
      },
      "source": [
        "5.5 เครื่องใช้พลาสติกชนิดหนึ่ง ผลิตโดยกระบวนการผลิตแตกต่างกัน 2 วิธี คือ A และ B ต้องการตรวจสอบความ\n",
        "เหนียวของพลาสติกที่ผลิตได้โดยทั้งสองกระบวนการนี้ว่าแตกต่างกันหรือไม่ จึงสุ่มตัวอย่าง\n",
        "ผลิตภัณฑ์จากกระบวนการผลิต A มา 30 ชิ้น ทดสอบและคำนวณค่าความเหนียวเฉลี่ยได้เป็น\n",
        "28.3 ส่วนเบี่ยงเบนมาตรฐาน 3.3 เมื่อสุ่มผลิตภัณฑ์จากกระบวนการผลิต B 40 ชิ้น คำนวณค่าความเหนียวเฉลี่ยได้เป็น 26.7 ส่วนเบี่ยงเบนมาตรฐานเป็น 4.9 หากการทดสอบโดยใช้ระดับนัยสำคัญ 0.05  "
      ]
    },
    {
      "cell_type": "code",
      "execution_count": null,
      "metadata": {
        "id": "HA_rpEPNuUdd"
      },
      "outputs": [],
      "source": [
        "plastic_a = [30, 28.3, 3.3]\n",
        "plastic_b = [40, 26.7, 4.9]\n",
        "z_cal,p_val = ztest(plastic_a, plastic_b, alternative='two-sided')\n",
        "print(z_cal,p_val)\n",
        "if p_val < 0.05:\n",
        "    print(\"พลาสติกสองกระบวนการนี้แตกต่างกัน\")\n",
        "else:\n",
        "    print(\"พลาสติกสองกระบวนการนี้ไม่แตกต่าง\")"
      ]
    }
  ],
  "metadata": {
    "colab": {
      "provenance": []
    },
    "kernelspec": {
      "display_name": "Python 3",
      "name": "python3"
    },
    "language_info": {
      "codemirror_mode": {
        "name": "ipython",
        "version": 3
      },
      "file_extension": ".py",
      "mimetype": "text/x-python",
      "name": "python",
      "nbconvert_exporter": "python",
      "pygments_lexer": "ipython3",
      "version": "3.12.8"
    }
  },
  "nbformat": 4,
  "nbformat_minor": 0
}
