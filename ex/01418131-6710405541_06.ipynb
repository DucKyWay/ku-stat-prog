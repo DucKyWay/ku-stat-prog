{
 "cells": [
  {
   "cell_type": "markdown",
   "metadata": {
    "id": "U3ArbMi8JHGD"
   },
   "source": [
    "# แบบฝึกหัด 6"
   ]
  },
  {
   "cell_type": "markdown",
   "metadata": {
    "id": "t9RQYuu-JUwP"
   },
   "source": [
    "---"
   ]
  },
  {
   "cell_type": "code",
   "execution_count": 2,
   "metadata": {
    "id": "YY-EeJDrQn80"
   },
   "outputs": [],
   "source": [
    "import numpy as np\n",
    "import pandas as pd\n",
    "from scipy import stats\n",
    "from statsmodels.stats.proportion import proportions_ztest"
   ]
  },
  {
   "cell_type": "markdown",
   "metadata": {
    "id": "QHjwP-tnOuU5"
   },
   "source": [
    "6.1 ร้านค้าออนไลน์ขายเมล็ดพืชหายากชนิดหนึ่ง อ้างว่าเมล็ดที่ขายมีเปอร์เซ็นต์การงอกสูงกว่า 90% จากการทดลองของลูกค้ารายหนึ่งได้สั่งซื้อเมล็ดมาทั้งหมด 100 เมล็ดและพบว่ามี 14 เมล็ดที่ไม่งอก จงทดสอบคำกล่าวอ้างของร้านค้าว่าเป็นจริงหรือไม่ที่ระดับนัยสำคัญ 0.05 หากถือว่าอัตราการงอกของเมล็ดพืชดังกล่าวมีการแจกแจงแบบปกติ"
   ]
  },
  {
   "cell_type": "code",
   "execution_count": 9,
   "metadata": {
    "id": "eGMlvK2UXrtE"
   },
   "outputs": [
    {
     "data": {
      "text/plain": [
       "(np.float64(-1.3333333333333346), np.float64(0.0912112197258676))"
      ]
     },
     "execution_count": 9,
     "metadata": {},
     "output_type": "execute_result"
    }
   ],
   "source": [
    "#แสดงสมมติฐาน พร้อมวิธีหาค่าcal ค่าp-value และการสรุปผล\n",
    "# h0 -> อัตราการงอกของเมล็ดพืข >= 90% (p >= 0.9) -> ของร้านค้า\n",
    "# h1 -> อัตราการงอกของเมล็ดพืข < 90% (p < 0.9) -> ของลูกค้า\n",
    "\n",
    "n = 100\n",
    "x = 100 - 14 # จากการทดสอบ\n",
    "p_hat = x / n # สังเกต\n",
    "p_0 = 0.9 # ความคาดหวังสมมุติฐาน\n",
    "\n",
    "se = np.sqrt((p_0 * (1 - p_0)) / n)\n",
    "z = (p_hat - p_0) / se\n",
    "\n",
    "p_val = stats.norm.cdf(z)\n",
    "\n",
    "z, p_val\n",
    "# ที่ระดับนัยสำคัญ 0.05 -> p-val (0.0912) > 0.05 -> หลักฐานไม่เพียงพอที่จะปฏิเสธ h0"
   ]
  },
  {
   "cell_type": "markdown",
   "metadata": {
    "id": "Tl6eIfL9R7Qx"
   },
   "source": [
    "6.2 สืบเนื่องจากข้อ 6.1 พบว่ามีร้านค้าออนไลน์อีกเจ้าซึ่งขายเมล็ดพืชหายากชนิดเดียวกันนี้ อ้างว่าเมล็ดที่ขายมีเปอร์เซนต์การงอกสูงกว่า 95% จึงสั่งซื้อมา 50 เมล็ดพบว่ามี 4 เมล็ดที่ไม่งอก จงทดสอบว่าร้านค้านี้ขายเมล็ดซึ่งมีเปอร์เซ็นต์การงอกสูงกว่าร้านค้าแรกมากกว่าหรือเท่ากับ 5% หรือไม่ ที่ระดับนัยสำคัญ 0.05"
   ]
  },
  {
   "cell_type": "code",
   "execution_count": null,
   "metadata": {
    "id": "IMLPHscAgi5K"
   },
   "outputs": [
    {
     "data": {
      "text/plain": [
       "(np.float64(-0.973328526784572), np.float64(0.8348049755756021))"
      ]
     },
     "execution_count": 11,
     "metadata": {},
     "output_type": "execute_result"
    }
   ],
   "source": [
    "#แสดงสมมติฐาน พร้อมวิธีหาค่าcal ค่าp-value และการสรุปผล\n",
    "# h0 -> อัตราการงอกของเมล็ดพืข >= 95 % (p >= 0.95)\n",
    "# h1 -> อัตราการงอกของเมล็ดพืข < 95 % (p < 0.95)\n",
    "\n",
    "n = 50\n",
    "x = 46\n",
    "p_hat = x / n\n",
    "p_0 = 0.95\n",
    "\n",
    "se = np.sqrt((p_0 * (1 - p_0)) / n)\n",
    "z = (p_hat - p_0) / se\n",
    "\n",
    "p_val = 1 - stats.norm.cdf(z)\n",
    "\n",
    "z, p_val\n",
    "# ระดับนัยสำคัญ 0.05 -> p_val = 0.835 > 0.05 หลักฐานไม่เพียงพอที่จะปฏิเสธ h0\n",
    "# ไม่มีหลักฐานที่จะบอกว่าร้านค้าที่สองอัตราการงอกสูงกว่าร้านแรก 5%\n"
   ]
  },
  {
   "cell_type": "markdown",
   "metadata": {
    "id": "JAxlkGQCXR2L"
   },
   "source": [
    "6.3 จากชุดข้อมูล \"titanic.csv\" จงทดสอบว่าส่วนเบี่ยงเบนมาตราฐานข้อมูลอายุผู้โดยสารมีค่าน้อยกว่า 10 ปีหรือไม่ที่ระดับความเชื่อมั่น 99% หากกำหนดให้ข้อมูลอายุผู้โดยสารมีการแจกแจงแบบปกติ"
   ]
  },
  {
   "cell_type": "code",
   "execution_count": 30,
   "metadata": {
    "id": "eE0UT708g4d_"
   },
   "outputs": [],
   "source": [
    "#แสดงสมมติฐาน พร้อมวิธีหาค่าcal ค่าp-value และการสรุปผล\n",
    "df = pd.read_csv(\"https://raw.githubusercontent.com/ThammakornS/ProgStat/main/dataset/titanic.csv\")\n",
    "# df.head()"
   ]
  },
  {
   "cell_type": "code",
   "execution_count": 28,
   "metadata": {},
   "outputs": [
    {
     "data": {
      "text/plain": [
       "(np.float64(1504.5663594411765),\n",
       " np.float64(803.7781674970724),\n",
       " np.float64(0.0))"
      ]
     },
     "execution_count": 28,
     "metadata": {},
     "output_type": "execute_result"
    }
   ],
   "source": [
    "# h0 -> sd อายุของผู้โดยสารมีค่า >= 10 ปี\n",
    "# h1 -> sd อายุของผู้โดยสารมีค่า < 10 ปี\n",
    "\n",
    "age = df.Age.dropna()\n",
    "n = len(age)\n",
    "s = age.std(ddof=1)\n",
    "sigma_0 = 10 #sd ที่ต้องการทดสอบ\n",
    "\n",
    "chi2_stat = (n - 1) * (s**2) / (sigma_0**2)\n",
    "alpha = 0.01\n",
    "\n",
    "chi2_crit = stats.chi2.ppf(1 - alpha, df=n-1)\n",
    "p_value = 1 - stats.chi2.cdf(chi2_stat, df=n-1)\n",
    "\n",
    "chi2_stat, chi2_crit, p_value\n",
    "# ระดับนัยสำคัญ 0.01 -> p_val = 0.999 > 0.01 หลักฐานไม่เพียงพอที่จะปฏิเสธ h0"
   ]
  },
  {
   "cell_type": "markdown",
   "metadata": {
    "id": "rZ8GvZovcRmI"
   },
   "source": [
    "6.4 จากข้อ 6.3 จงทดสอบว่ากลุ่มผู้โดยสารชั้น Pclass = 1 มีความแปรปรวนของอายุเท่ากับ กลุ่มผู้โดยสารชั้น Pclass = 2 หรือไม่ที่ระดับนัยสำคัญ 0.05"
   ]
  },
  {
   "cell_type": "code",
   "execution_count": 6,
   "metadata": {
    "id": "ebjm535ag6tE"
   },
   "outputs": [],
   "source": [
    "#แสดงสมมติฐาน พร้อมวิธีหาค่าcal ค่าp-value และการสรุปผล"
   ]
  }
 ],
 "metadata": {
  "colab": {
   "authorship_tag": "ABX9TyOVhIZRu7v2YJC1oMHbYktS",
   "mount_file_id": "13_V3qsBRcrQoQ1jmKWGvytbMFB2dNZhd",
   "provenance": []
  },
  "kernelspec": {
   "display_name": "Python 3",
   "name": "python3"
  },
  "language_info": {
   "codemirror_mode": {
    "name": "ipython",
    "version": 3
   },
   "file_extension": ".py",
   "mimetype": "text/x-python",
   "name": "python",
   "nbconvert_exporter": "python",
   "pygments_lexer": "ipython3",
   "version": "3.12.9"
  }
 },
 "nbformat": 4,
 "nbformat_minor": 0
}
